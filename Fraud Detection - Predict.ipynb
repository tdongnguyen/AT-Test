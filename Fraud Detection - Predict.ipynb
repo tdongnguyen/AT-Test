{
 "cells": [
  {
   "cell_type": "code",
   "execution_count": null,
   "id": "d479c901",
   "metadata": {},
   "outputs": [],
   "source": [
    "!pip install pandas-ods-reader\n",
    "import pandas as pd\n",
    "import numpy as np\n",
    "from pandas_ods_reader import read_ods\n",
    "import warnings\n",
    "warnings.filterwarnings(\"ignore\")\n",
    "import pickle"
   ]
  },
  {
   "cell_type": "code",
   "execution_count": null,
   "id": "e851a217",
   "metadata": {},
   "outputs": [],
   "source": [
    "train_feature=['app_downloads','unique_offer_clicked','total_offer_clicks','total_offer_rides','total_offers_claimed']\n",
    "\n",
    "profile_feature=['gender','has_first_name',\n",
    " 'has_last_name',\n",
    " 'has_email',\n",
    " 'has_dob',\n",
    " 'account_age',\n",
    " 'account_last_updated',\n",
    " 'app_downloads',\n",
    " 'unique_offer_clicked',\n",
    " 'total_offer_clicks',\n",
    " 'unique_offer_rides',\n",
    " 'total_offer_rides',\n",
    " 'avg_claims',\n",
    " 'min_claims',\n",
    " 'max_claims',\n",
    " 'total_offers_claimed',\n",
    " 'duplicated',\n",
    " 'customer_age_imputed',\n",
    " 'gender_f',\n",
    " 'gender_m',\n",
    " 'gender_missing',\n",
    " 'duplicated_false',\n",
    " 'duplicated_true']\n",
    "# list of feature in numeric format using for profiling\n",
    "profile_number=[\n",
    " 'account_age',\n",
    " 'account_last_updated',\n",
    " 'app_downloads',\n",
    " 'unique_offer_clicked',\n",
    " 'total_offer_clicks',\n",
    " 'unique_offer_rides',\n",
    " 'total_offer_rides',\n",
    " 'avg_claims',\n",
    " 'min_claims',\n",
    " 'max_claims',\n",
    " 'total_offers_claimed',\n",
    " 'customer_age_imputed']\n",
    "# list of feature in categorical format using for profiling\n",
    "profile_cat=['gender','has_first_name',\n",
    " 'has_last_name',\n",
    " 'has_email',\n",
    " 'has_dob',\n",
    " 'duplicated']"
   ]
  },
  {
   "cell_type": "code",
   "execution_count": null,
   "id": "f36c0c26",
   "metadata": {},
   "outputs": [],
   "source": [
    "scoring_path = \"C:/Users/tdong/Desktop/AT/Data_predict.ods\" #from local path\n",
    "df_predict = read_ods(path)\n",
    "\n",
    "iforest = pickle.load(open(path+\"anomaly_iforest\"+model_date+\".pkl\", \"rb\"))\n",
    "pred = iforest.predict(df_predict)\n",
    "\n",
    "df_predicted=df_predict[profile_feature]\n",
    "df_predicted['label']= pred\n",
    "df_predicted['label_name']= df_predicted['label'].apply(lambda x: \"Outlier\" if (x==-1) else \"Inliner\")\n"
   ]
  }
 ],
 "metadata": {
  "kernelspec": {
   "display_name": "Python 3 (ipykernel)",
   "language": "python",
   "name": "python3"
  },
  "language_info": {
   "codemirror_mode": {
    "name": "ipython",
    "version": 3
   },
   "file_extension": ".py",
   "mimetype": "text/x-python",
   "name": "python",
   "nbconvert_exporter": "python",
   "pygments_lexer": "ipython3",
   "version": "3.9.7"
  }
 },
 "nbformat": 4,
 "nbformat_minor": 5
}
