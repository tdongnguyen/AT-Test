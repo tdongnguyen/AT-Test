{
 "cells": [
  {
   "cell_type": "markdown",
   "id": "089474be",
   "metadata": {},
   "source": [
    "##### Install and import packages"
   ]
  },
  {
   "cell_type": "code",
   "execution_count": 1,
   "id": "942e857a",
   "metadata": {},
   "outputs": [
    {
     "name": "stdout",
     "output_type": "stream",
     "text": [
      "Requirement already satisfied: pandas-ods-reader in c:\\users\\tdong\\anaconda3\\lib\\site-packages (0.1.4)\n",
      "Requirement already satisfied: ezodf<0.4.0,>=0.3.2 in c:\\users\\tdong\\anaconda3\\lib\\site-packages (from pandas-ods-reader) (0.3.2)\n",
      "Requirement already satisfied: lxml<5.0.0,>=4.6.3 in c:\\users\\tdong\\anaconda3\\lib\\site-packages (from pandas-ods-reader) (4.6.3)\n",
      "Requirement already satisfied: pandas<2.0.0,>=1.0.0 in c:\\users\\tdong\\anaconda3\\lib\\site-packages (from pandas-ods-reader) (1.3.4)\n",
      "Requirement already satisfied: python-dateutil>=2.7.3 in c:\\users\\tdong\\anaconda3\\lib\\site-packages (from pandas<2.0.0,>=1.0.0->pandas-ods-reader) (2.8.2)\n",
      "Requirement already satisfied: pytz>=2017.3 in c:\\users\\tdong\\anaconda3\\lib\\site-packages (from pandas<2.0.0,>=1.0.0->pandas-ods-reader) (2021.3)\n",
      "Requirement already satisfied: numpy>=1.17.3 in c:\\users\\tdong\\anaconda3\\lib\\site-packages (from pandas<2.0.0,>=1.0.0->pandas-ods-reader) (1.20.3)\n",
      "Requirement already satisfied: six>=1.5 in c:\\users\\tdong\\anaconda3\\lib\\site-packages (from python-dateutil>=2.7.3->pandas<2.0.0,>=1.0.0->pandas-ods-reader) (1.16.0)\n",
      "Requirement already satisfied: impyute in c:\\users\\tdong\\anaconda3\\lib\\site-packages (0.0.8)\n",
      "Requirement already satisfied: scipy in c:\\users\\tdong\\anaconda3\\lib\\site-packages (from impyute) (1.7.1)\n",
      "Requirement already satisfied: scikit-learn in c:\\users\\tdong\\anaconda3\\lib\\site-packages (from impyute) (0.24.2)\n",
      "Requirement already satisfied: numpy in c:\\users\\tdong\\anaconda3\\lib\\site-packages (from impyute) (1.20.3)\n",
      "Requirement already satisfied: joblib>=0.11 in c:\\users\\tdong\\anaconda3\\lib\\site-packages (from scikit-learn->impyute) (1.1.0)\n",
      "Requirement already satisfied: threadpoolctl>=2.0.0 in c:\\users\\tdong\\anaconda3\\lib\\site-packages (from scikit-learn->impyute) (2.2.0)\n"
     ]
    }
   ],
   "source": [
    "!pip install pandas-ods-reader\n",
    "!pip install impyute\n",
    "import pandas as pd\n",
    "import numpy as np\n",
    "import matplotlib.pyplot as plt\n",
    "from pandas_ods_reader import read_ods\n",
    "from impyute.imputation.cs import mice\n",
    "import seaborn as sns\n",
    "from sklearn.ensemble import IsolationForest\n",
    "import warnings\n",
    "warnings.filterwarnings(\"ignore\")\n",
    "import pickle\n",
    "from datetime import datetime "
   ]
  },
  {
   "cell_type": "markdown",
   "id": "021f8d67",
   "metadata": {},
   "source": [
    "##### Import Input Data from Local"
   ]
  },
  {
   "cell_type": "code",
   "execution_count": 2,
   "id": "f98e7cbc",
   "metadata": {},
   "outputs": [],
   "source": [
    "path = \"C:/Users/tdong/Desktop/AT/Data.ods\" #from local path\n",
    "df = read_ods(path)"
   ]
  },
  {
   "cell_type": "markdown",
   "id": "4c9e8a38",
   "metadata": {},
   "source": [
    "##### Check raw data"
   ]
  },
  {
   "cell_type": "code",
   "execution_count": 3,
   "id": "e33be043",
   "metadata": {},
   "outputs": [
    {
     "data": {
      "text/html": [
       "<div>\n",
       "<style scoped>\n",
       "    .dataframe tbody tr th:only-of-type {\n",
       "        vertical-align: middle;\n",
       "    }\n",
       "\n",
       "    .dataframe tbody tr th {\n",
       "        vertical-align: top;\n",
       "    }\n",
       "\n",
       "    .dataframe thead th {\n",
       "        text-align: right;\n",
       "    }\n",
       "</style>\n",
       "<table border=\"1\" class=\"dataframe\">\n",
       "  <thead>\n",
       "    <tr style=\"text-align: right;\">\n",
       "      <th></th>\n",
       "      <th>consumer_id</th>\n",
       "      <th>gender</th>\n",
       "      <th>has_gender</th>\n",
       "      <th>has_first_name</th>\n",
       "      <th>has_last_name</th>\n",
       "      <th>has_email</th>\n",
       "      <th>has_dob</th>\n",
       "      <th>customer_age</th>\n",
       "      <th>account_age</th>\n",
       "      <th>account_last_updated</th>\n",
       "      <th>account_status</th>\n",
       "      <th>app_downloads</th>\n",
       "      <th>unique_offer_clicked</th>\n",
       "      <th>total_offer_clicks</th>\n",
       "      <th>unique_offer_rides</th>\n",
       "      <th>total_offer_rides</th>\n",
       "      <th>avg_claims</th>\n",
       "      <th>min_claims</th>\n",
       "      <th>max_claims</th>\n",
       "      <th>total_offers_claimed</th>\n",
       "    </tr>\n",
       "  </thead>\n",
       "  <tbody>\n",
       "    <tr>\n",
       "      <th>0</th>\n",
       "      <td>1284b75c-ecae-4015-8e3d-359c0347ede8</td>\n",
       "      <td>None</td>\n",
       "      <td>0.0</td>\n",
       "      <td>1.0</td>\n",
       "      <td>1.0</td>\n",
       "      <td>1.0</td>\n",
       "      <td>0.0</td>\n",
       "      <td>NaN</td>\n",
       "      <td>188.0</td>\n",
       "      <td>174.0</td>\n",
       "      <td>0.0</td>\n",
       "      <td>1.0</td>\n",
       "      <td>3.0</td>\n",
       "      <td>3.0</td>\n",
       "      <td>8.0</td>\n",
       "      <td>52.0</td>\n",
       "      <td>1.0</td>\n",
       "      <td>1.0</td>\n",
       "      <td>1.0</td>\n",
       "      <td>1.0</td>\n",
       "    </tr>\n",
       "    <tr>\n",
       "      <th>1</th>\n",
       "      <td>128af162-d2c3-4fe4-986c-359c8bdc6c04</td>\n",
       "      <td>None</td>\n",
       "      <td>0.0</td>\n",
       "      <td>1.0</td>\n",
       "      <td>1.0</td>\n",
       "      <td>1.0</td>\n",
       "      <td>0.0</td>\n",
       "      <td>NaN</td>\n",
       "      <td>185.0</td>\n",
       "      <td>174.0</td>\n",
       "      <td>0.0</td>\n",
       "      <td>1.0</td>\n",
       "      <td>3.0</td>\n",
       "      <td>8.0</td>\n",
       "      <td>5.0</td>\n",
       "      <td>58.0</td>\n",
       "      <td>1.0</td>\n",
       "      <td>1.0</td>\n",
       "      <td>1.0</td>\n",
       "      <td>1.0</td>\n",
       "    </tr>\n",
       "    <tr>\n",
       "      <th>2</th>\n",
       "      <td>12aada5e-36eb-4e9e-8d62-359c076c1b40</td>\n",
       "      <td>None</td>\n",
       "      <td>0.0</td>\n",
       "      <td>1.0</td>\n",
       "      <td>1.0</td>\n",
       "      <td>1.0</td>\n",
       "      <td>0.0</td>\n",
       "      <td>NaN</td>\n",
       "      <td>188.0</td>\n",
       "      <td>174.0</td>\n",
       "      <td>0.0</td>\n",
       "      <td>1.0</td>\n",
       "      <td>3.0</td>\n",
       "      <td>4.0</td>\n",
       "      <td>9.0</td>\n",
       "      <td>183.0</td>\n",
       "      <td>1.0</td>\n",
       "      <td>1.0</td>\n",
       "      <td>1.0</td>\n",
       "      <td>3.0</td>\n",
       "    </tr>\n",
       "    <tr>\n",
       "      <th>3</th>\n",
       "      <td>12c2e02f-bc79-4048-83ba-359cd3280dcf</td>\n",
       "      <td>None</td>\n",
       "      <td>0.0</td>\n",
       "      <td>1.0</td>\n",
       "      <td>1.0</td>\n",
       "      <td>1.0</td>\n",
       "      <td>0.0</td>\n",
       "      <td>NaN</td>\n",
       "      <td>184.0</td>\n",
       "      <td>174.0</td>\n",
       "      <td>0.0</td>\n",
       "      <td>1.0</td>\n",
       "      <td>3.0</td>\n",
       "      <td>7.0</td>\n",
       "      <td>4.0</td>\n",
       "      <td>56.0</td>\n",
       "      <td>1.0</td>\n",
       "      <td>1.0</td>\n",
       "      <td>1.0</td>\n",
       "      <td>1.0</td>\n",
       "    </tr>\n",
       "    <tr>\n",
       "      <th>4</th>\n",
       "      <td>12fabdf0-0582-489e-a6d3-35509ab8ae6f</td>\n",
       "      <td>f</td>\n",
       "      <td>1.0</td>\n",
       "      <td>1.0</td>\n",
       "      <td>1.0</td>\n",
       "      <td>1.0</td>\n",
       "      <td>1.0</td>\n",
       "      <td>22.0</td>\n",
       "      <td>572.0</td>\n",
       "      <td>173.0</td>\n",
       "      <td>0.0</td>\n",
       "      <td>1.0</td>\n",
       "      <td>4.0</td>\n",
       "      <td>6.0</td>\n",
       "      <td>7.0</td>\n",
       "      <td>83.0</td>\n",
       "      <td>1.0</td>\n",
       "      <td>1.0</td>\n",
       "      <td>1.0</td>\n",
       "      <td>3.0</td>\n",
       "    </tr>\n",
       "    <tr>\n",
       "      <th>5</th>\n",
       "      <td>811625dc-6e1e-476f-bdc2-359b0b0abe20</td>\n",
       "      <td>None</td>\n",
       "      <td>0.0</td>\n",
       "      <td>1.0</td>\n",
       "      <td>1.0</td>\n",
       "      <td>1.0</td>\n",
       "      <td>0.0</td>\n",
       "      <td>NaN</td>\n",
       "      <td>193.0</td>\n",
       "      <td>174.0</td>\n",
       "      <td>0.0</td>\n",
       "      <td>1.0</td>\n",
       "      <td>1.0</td>\n",
       "      <td>1.0</td>\n",
       "      <td>1.0</td>\n",
       "      <td>7.0</td>\n",
       "      <td>1.0</td>\n",
       "      <td>1.0</td>\n",
       "      <td>1.0</td>\n",
       "      <td>1.0</td>\n",
       "    </tr>\n",
       "    <tr>\n",
       "      <th>6</th>\n",
       "      <td>815d231a-d382-4aa2-8e21-359c9be5e423</td>\n",
       "      <td>f</td>\n",
       "      <td>1.0</td>\n",
       "      <td>1.0</td>\n",
       "      <td>1.0</td>\n",
       "      <td>1.0</td>\n",
       "      <td>1.0</td>\n",
       "      <td>17.0</td>\n",
       "      <td>185.0</td>\n",
       "      <td>174.0</td>\n",
       "      <td>0.0</td>\n",
       "      <td>1.0</td>\n",
       "      <td>1.0</td>\n",
       "      <td>1.0</td>\n",
       "      <td>4.0</td>\n",
       "      <td>22.0</td>\n",
       "      <td>1.0</td>\n",
       "      <td>1.0</td>\n",
       "      <td>1.0</td>\n",
       "      <td>2.0</td>\n",
       "    </tr>\n",
       "    <tr>\n",
       "      <th>7</th>\n",
       "      <td>818c43e7-df25-4e8b-a274-355e49e8f505</td>\n",
       "      <td>f</td>\n",
       "      <td>1.0</td>\n",
       "      <td>1.0</td>\n",
       "      <td>1.0</td>\n",
       "      <td>1.0</td>\n",
       "      <td>1.0</td>\n",
       "      <td>20.0</td>\n",
       "      <td>502.0</td>\n",
       "      <td>176.0</td>\n",
       "      <td>0.0</td>\n",
       "      <td>1.0</td>\n",
       "      <td>2.0</td>\n",
       "      <td>3.0</td>\n",
       "      <td>11.0</td>\n",
       "      <td>62.0</td>\n",
       "      <td>1.0</td>\n",
       "      <td>1.0</td>\n",
       "      <td>1.0</td>\n",
       "      <td>1.0</td>\n",
       "    </tr>\n",
       "    <tr>\n",
       "      <th>8</th>\n",
       "      <td>2a9258b2-0f10-4a84-ac08-359e39e3dd5c</td>\n",
       "      <td>None</td>\n",
       "      <td>0.0</td>\n",
       "      <td>1.0</td>\n",
       "      <td>1.0</td>\n",
       "      <td>1.0</td>\n",
       "      <td>0.0</td>\n",
       "      <td>NaN</td>\n",
       "      <td>177.0</td>\n",
       "      <td>174.0</td>\n",
       "      <td>0.0</td>\n",
       "      <td>1.0</td>\n",
       "      <td>1.0</td>\n",
       "      <td>2.0</td>\n",
       "      <td>4.0</td>\n",
       "      <td>12.0</td>\n",
       "      <td>1.0</td>\n",
       "      <td>1.0</td>\n",
       "      <td>1.0</td>\n",
       "      <td>1.0</td>\n",
       "    </tr>\n",
       "    <tr>\n",
       "      <th>9</th>\n",
       "      <td>2b07ca5f-a254-4b5a-a24d-359c01d502ee</td>\n",
       "      <td>None</td>\n",
       "      <td>0.0</td>\n",
       "      <td>1.0</td>\n",
       "      <td>1.0</td>\n",
       "      <td>1.0</td>\n",
       "      <td>0.0</td>\n",
       "      <td>NaN</td>\n",
       "      <td>188.0</td>\n",
       "      <td>177.0</td>\n",
       "      <td>0.0</td>\n",
       "      <td>1.0</td>\n",
       "      <td>3.0</td>\n",
       "      <td>4.0</td>\n",
       "      <td>4.0</td>\n",
       "      <td>49.0</td>\n",
       "      <td>1.0</td>\n",
       "      <td>1.0</td>\n",
       "      <td>1.0</td>\n",
       "      <td>2.0</td>\n",
       "    </tr>\n",
       "  </tbody>\n",
       "</table>\n",
       "</div>"
      ],
      "text/plain": [
       "                            consumer_id gender  has_gender  has_first_name  \\\n",
       "0  1284b75c-ecae-4015-8e3d-359c0347ede8   None         0.0             1.0   \n",
       "1  128af162-d2c3-4fe4-986c-359c8bdc6c04   None         0.0             1.0   \n",
       "2  12aada5e-36eb-4e9e-8d62-359c076c1b40   None         0.0             1.0   \n",
       "3  12c2e02f-bc79-4048-83ba-359cd3280dcf   None         0.0             1.0   \n",
       "4  12fabdf0-0582-489e-a6d3-35509ab8ae6f      f         1.0             1.0   \n",
       "5  811625dc-6e1e-476f-bdc2-359b0b0abe20   None         0.0             1.0   \n",
       "6  815d231a-d382-4aa2-8e21-359c9be5e423      f         1.0             1.0   \n",
       "7  818c43e7-df25-4e8b-a274-355e49e8f505      f         1.0             1.0   \n",
       "8  2a9258b2-0f10-4a84-ac08-359e39e3dd5c   None         0.0             1.0   \n",
       "9  2b07ca5f-a254-4b5a-a24d-359c01d502ee   None         0.0             1.0   \n",
       "\n",
       "   has_last_name  has_email  has_dob  customer_age  account_age  \\\n",
       "0            1.0        1.0      0.0           NaN        188.0   \n",
       "1            1.0        1.0      0.0           NaN        185.0   \n",
       "2            1.0        1.0      0.0           NaN        188.0   \n",
       "3            1.0        1.0      0.0           NaN        184.0   \n",
       "4            1.0        1.0      1.0          22.0        572.0   \n",
       "5            1.0        1.0      0.0           NaN        193.0   \n",
       "6            1.0        1.0      1.0          17.0        185.0   \n",
       "7            1.0        1.0      1.0          20.0        502.0   \n",
       "8            1.0        1.0      0.0           NaN        177.0   \n",
       "9            1.0        1.0      0.0           NaN        188.0   \n",
       "\n",
       "   account_last_updated  account_status  app_downloads  unique_offer_clicked  \\\n",
       "0                 174.0             0.0            1.0                   3.0   \n",
       "1                 174.0             0.0            1.0                   3.0   \n",
       "2                 174.0             0.0            1.0                   3.0   \n",
       "3                 174.0             0.0            1.0                   3.0   \n",
       "4                 173.0             0.0            1.0                   4.0   \n",
       "5                 174.0             0.0            1.0                   1.0   \n",
       "6                 174.0             0.0            1.0                   1.0   \n",
       "7                 176.0             0.0            1.0                   2.0   \n",
       "8                 174.0             0.0            1.0                   1.0   \n",
       "9                 177.0             0.0            1.0                   3.0   \n",
       "\n",
       "   total_offer_clicks  unique_offer_rides  total_offer_rides  avg_claims  \\\n",
       "0                 3.0                 8.0               52.0         1.0   \n",
       "1                 8.0                 5.0               58.0         1.0   \n",
       "2                 4.0                 9.0              183.0         1.0   \n",
       "3                 7.0                 4.0               56.0         1.0   \n",
       "4                 6.0                 7.0               83.0         1.0   \n",
       "5                 1.0                 1.0                7.0         1.0   \n",
       "6                 1.0                 4.0               22.0         1.0   \n",
       "7                 3.0                11.0               62.0         1.0   \n",
       "8                 2.0                 4.0               12.0         1.0   \n",
       "9                 4.0                 4.0               49.0         1.0   \n",
       "\n",
       "   min_claims  max_claims  total_offers_claimed  \n",
       "0         1.0         1.0                   1.0  \n",
       "1         1.0         1.0                   1.0  \n",
       "2         1.0         1.0                   3.0  \n",
       "3         1.0         1.0                   1.0  \n",
       "4         1.0         1.0                   3.0  \n",
       "5         1.0         1.0                   1.0  \n",
       "6         1.0         1.0                   2.0  \n",
       "7         1.0         1.0                   1.0  \n",
       "8         1.0         1.0                   1.0  \n",
       "9         1.0         1.0                   2.0  "
      ]
     },
     "execution_count": 3,
     "metadata": {},
     "output_type": "execute_result"
    }
   ],
   "source": [
    "df.head(10)"
   ]
  },
  {
   "cell_type": "code",
   "execution_count": 4,
   "id": "cfe57cc3",
   "metadata": {},
   "outputs": [
    {
     "name": "stdout",
     "output_type": "stream",
     "text": [
      "<class 'pandas.core.frame.DataFrame'>\n",
      "Int64Index: 10000 entries, 0 to 9999\n",
      "Data columns (total 20 columns):\n",
      " #   Column                Non-Null Count  Dtype  \n",
      "---  ------                --------------  -----  \n",
      " 0   consumer_id           10000 non-null  object \n",
      " 1   gender                5478 non-null   object \n",
      " 2   has_gender            10000 non-null  float64\n",
      " 3   has_first_name        10000 non-null  float64\n",
      " 4   has_last_name         10000 non-null  float64\n",
      " 5   has_email             10000 non-null  float64\n",
      " 6   has_dob               10000 non-null  float64\n",
      " 7   customer_age          4064 non-null   float64\n",
      " 8   account_age           10000 non-null  float64\n",
      " 9   account_last_updated  10000 non-null  float64\n",
      " 10  account_status        10000 non-null  float64\n",
      " 11  app_downloads         10000 non-null  float64\n",
      " 12  unique_offer_clicked  10000 non-null  float64\n",
      " 13  total_offer_clicks    10000 non-null  float64\n",
      " 14  unique_offer_rides    10000 non-null  float64\n",
      " 15  total_offer_rides     10000 non-null  float64\n",
      " 16  avg_claims            10000 non-null  float64\n",
      " 17  min_claims            10000 non-null  float64\n",
      " 18  max_claims            10000 non-null  float64\n",
      " 19  total_offers_claimed  10000 non-null  float64\n",
      "dtypes: float64(18), object(2)\n",
      "memory usage: 1.6+ MB\n"
     ]
    }
   ],
   "source": [
    "df.info(verbose=True)"
   ]
  },
  {
   "cell_type": "code",
   "execution_count": 5,
   "id": "af9ae7fe",
   "metadata": {},
   "outputs": [
    {
     "data": {
      "text/html": [
       "<div>\n",
       "<style scoped>\n",
       "    .dataframe tbody tr th:only-of-type {\n",
       "        vertical-align: middle;\n",
       "    }\n",
       "\n",
       "    .dataframe tbody tr th {\n",
       "        vertical-align: top;\n",
       "    }\n",
       "\n",
       "    .dataframe thead th {\n",
       "        text-align: right;\n",
       "    }\n",
       "</style>\n",
       "<table border=\"1\" class=\"dataframe\">\n",
       "  <thead>\n",
       "    <tr style=\"text-align: right;\">\n",
       "      <th></th>\n",
       "      <th>has_gender</th>\n",
       "      <th>has_first_name</th>\n",
       "      <th>has_last_name</th>\n",
       "      <th>has_email</th>\n",
       "      <th>has_dob</th>\n",
       "      <th>customer_age</th>\n",
       "      <th>account_age</th>\n",
       "      <th>account_last_updated</th>\n",
       "      <th>account_status</th>\n",
       "      <th>app_downloads</th>\n",
       "      <th>unique_offer_clicked</th>\n",
       "      <th>total_offer_clicks</th>\n",
       "      <th>unique_offer_rides</th>\n",
       "      <th>total_offer_rides</th>\n",
       "      <th>avg_claims</th>\n",
       "      <th>min_claims</th>\n",
       "      <th>max_claims</th>\n",
       "      <th>total_offers_claimed</th>\n",
       "    </tr>\n",
       "  </thead>\n",
       "  <tbody>\n",
       "    <tr>\n",
       "      <th>count</th>\n",
       "      <td>10000.000000</td>\n",
       "      <td>10000.000000</td>\n",
       "      <td>10000.000000</td>\n",
       "      <td>10000.000000</td>\n",
       "      <td>10000.000000</td>\n",
       "      <td>4064.000000</td>\n",
       "      <td>10000.000000</td>\n",
       "      <td>10000.000000</td>\n",
       "      <td>10000.0</td>\n",
       "      <td>10000.000000</td>\n",
       "      <td>10000.000000</td>\n",
       "      <td>10000.000000</td>\n",
       "      <td>10000.000000</td>\n",
       "      <td>10000.000000</td>\n",
       "      <td>10000.000000</td>\n",
       "      <td>10000.000000</td>\n",
       "      <td>10000.000000</td>\n",
       "      <td>10000.000000</td>\n",
       "    </tr>\n",
       "    <tr>\n",
       "      <th>mean</th>\n",
       "      <td>0.547800</td>\n",
       "      <td>0.998000</td>\n",
       "      <td>0.995900</td>\n",
       "      <td>0.999200</td>\n",
       "      <td>0.406400</td>\n",
       "      <td>22.980807</td>\n",
       "      <td>245.816600</td>\n",
       "      <td>174.256700</td>\n",
       "      <td>0.0</td>\n",
       "      <td>1.032200</td>\n",
       "      <td>3.172400</td>\n",
       "      <td>5.825600</td>\n",
       "      <td>7.516500</td>\n",
       "      <td>68.429900</td>\n",
       "      <td>1.003003</td>\n",
       "      <td>1.001300</td>\n",
       "      <td>1.005700</td>\n",
       "      <td>1.880900</td>\n",
       "    </tr>\n",
       "    <tr>\n",
       "      <th>std</th>\n",
       "      <td>0.497735</td>\n",
       "      <td>0.044679</td>\n",
       "      <td>0.063903</td>\n",
       "      <td>0.028274</td>\n",
       "      <td>0.491185</td>\n",
       "      <td>8.504064</td>\n",
       "      <td>130.090693</td>\n",
       "      <td>0.895145</td>\n",
       "      <td>0.0</td>\n",
       "      <td>0.186994</td>\n",
       "      <td>2.059831</td>\n",
       "      <td>5.290424</td>\n",
       "      <td>3.490264</td>\n",
       "      <td>69.591347</td>\n",
       "      <td>0.046453</td>\n",
       "      <td>0.036034</td>\n",
       "      <td>0.079172</td>\n",
       "      <td>1.187121</td>\n",
       "    </tr>\n",
       "    <tr>\n",
       "      <th>min</th>\n",
       "      <td>0.000000</td>\n",
       "      <td>0.000000</td>\n",
       "      <td>0.000000</td>\n",
       "      <td>0.000000</td>\n",
       "      <td>0.000000</td>\n",
       "      <td>15.000000</td>\n",
       "      <td>174.000000</td>\n",
       "      <td>173.000000</td>\n",
       "      <td>0.0</td>\n",
       "      <td>1.000000</td>\n",
       "      <td>1.000000</td>\n",
       "      <td>1.000000</td>\n",
       "      <td>1.000000</td>\n",
       "      <td>2.000000</td>\n",
       "      <td>1.000000</td>\n",
       "      <td>1.000000</td>\n",
       "      <td>1.000000</td>\n",
       "      <td>1.000000</td>\n",
       "    </tr>\n",
       "    <tr>\n",
       "      <th>25%</th>\n",
       "      <td>0.000000</td>\n",
       "      <td>1.000000</td>\n",
       "      <td>1.000000</td>\n",
       "      <td>1.000000</td>\n",
       "      <td>0.000000</td>\n",
       "      <td>19.000000</td>\n",
       "      <td>184.000000</td>\n",
       "      <td>174.000000</td>\n",
       "      <td>0.0</td>\n",
       "      <td>1.000000</td>\n",
       "      <td>2.000000</td>\n",
       "      <td>2.000000</td>\n",
       "      <td>4.000000</td>\n",
       "      <td>23.000000</td>\n",
       "      <td>1.000000</td>\n",
       "      <td>1.000000</td>\n",
       "      <td>1.000000</td>\n",
       "      <td>1.000000</td>\n",
       "    </tr>\n",
       "    <tr>\n",
       "      <th>50%</th>\n",
       "      <td>1.000000</td>\n",
       "      <td>1.000000</td>\n",
       "      <td>1.000000</td>\n",
       "      <td>1.000000</td>\n",
       "      <td>0.000000</td>\n",
       "      <td>20.000000</td>\n",
       "      <td>187.000000</td>\n",
       "      <td>174.000000</td>\n",
       "      <td>0.0</td>\n",
       "      <td>1.000000</td>\n",
       "      <td>3.000000</td>\n",
       "      <td>4.000000</td>\n",
       "      <td>7.000000</td>\n",
       "      <td>47.000000</td>\n",
       "      <td>1.000000</td>\n",
       "      <td>1.000000</td>\n",
       "      <td>1.000000</td>\n",
       "      <td>2.000000</td>\n",
       "    </tr>\n",
       "    <tr>\n",
       "      <th>75%</th>\n",
       "      <td>1.000000</td>\n",
       "      <td>1.000000</td>\n",
       "      <td>1.000000</td>\n",
       "      <td>1.000000</td>\n",
       "      <td>1.000000</td>\n",
       "      <td>24.000000</td>\n",
       "      <td>193.000000</td>\n",
       "      <td>174.000000</td>\n",
       "      <td>0.0</td>\n",
       "      <td>1.000000</td>\n",
       "      <td>4.000000</td>\n",
       "      <td>8.000000</td>\n",
       "      <td>10.000000</td>\n",
       "      <td>90.000000</td>\n",
       "      <td>1.000000</td>\n",
       "      <td>1.000000</td>\n",
       "      <td>1.000000</td>\n",
       "      <td>2.000000</td>\n",
       "    </tr>\n",
       "    <tr>\n",
       "      <th>max</th>\n",
       "      <td>1.000000</td>\n",
       "      <td>1.000000</td>\n",
       "      <td>1.000000</td>\n",
       "      <td>1.000000</td>\n",
       "      <td>1.000000</td>\n",
       "      <td>119.000000</td>\n",
       "      <td>649.000000</td>\n",
       "      <td>187.000000</td>\n",
       "      <td>0.0</td>\n",
       "      <td>5.000000</td>\n",
       "      <td>14.000000</td>\n",
       "      <td>62.000000</td>\n",
       "      <td>25.000000</td>\n",
       "      <td>1693.000000</td>\n",
       "      <td>2.500000</td>\n",
       "      <td>2.000000</td>\n",
       "      <td>4.000000</td>\n",
       "      <td>11.000000</td>\n",
       "    </tr>\n",
       "  </tbody>\n",
       "</table>\n",
       "</div>"
      ],
      "text/plain": [
       "         has_gender  has_first_name  has_last_name     has_email  \\\n",
       "count  10000.000000    10000.000000   10000.000000  10000.000000   \n",
       "mean       0.547800        0.998000       0.995900      0.999200   \n",
       "std        0.497735        0.044679       0.063903      0.028274   \n",
       "min        0.000000        0.000000       0.000000      0.000000   \n",
       "25%        0.000000        1.000000       1.000000      1.000000   \n",
       "50%        1.000000        1.000000       1.000000      1.000000   \n",
       "75%        1.000000        1.000000       1.000000      1.000000   \n",
       "max        1.000000        1.000000       1.000000      1.000000   \n",
       "\n",
       "            has_dob  customer_age   account_age  account_last_updated  \\\n",
       "count  10000.000000   4064.000000  10000.000000          10000.000000   \n",
       "mean       0.406400     22.980807    245.816600            174.256700   \n",
       "std        0.491185      8.504064    130.090693              0.895145   \n",
       "min        0.000000     15.000000    174.000000            173.000000   \n",
       "25%        0.000000     19.000000    184.000000            174.000000   \n",
       "50%        0.000000     20.000000    187.000000            174.000000   \n",
       "75%        1.000000     24.000000    193.000000            174.000000   \n",
       "max        1.000000    119.000000    649.000000            187.000000   \n",
       "\n",
       "       account_status  app_downloads  unique_offer_clicked  \\\n",
       "count         10000.0   10000.000000          10000.000000   \n",
       "mean              0.0       1.032200              3.172400   \n",
       "std               0.0       0.186994              2.059831   \n",
       "min               0.0       1.000000              1.000000   \n",
       "25%               0.0       1.000000              2.000000   \n",
       "50%               0.0       1.000000              3.000000   \n",
       "75%               0.0       1.000000              4.000000   \n",
       "max               0.0       5.000000             14.000000   \n",
       "\n",
       "       total_offer_clicks  unique_offer_rides  total_offer_rides  \\\n",
       "count        10000.000000        10000.000000       10000.000000   \n",
       "mean             5.825600            7.516500          68.429900   \n",
       "std              5.290424            3.490264          69.591347   \n",
       "min              1.000000            1.000000           2.000000   \n",
       "25%              2.000000            4.000000          23.000000   \n",
       "50%              4.000000            7.000000          47.000000   \n",
       "75%              8.000000           10.000000          90.000000   \n",
       "max             62.000000           25.000000        1693.000000   \n",
       "\n",
       "         avg_claims    min_claims    max_claims  total_offers_claimed  \n",
       "count  10000.000000  10000.000000  10000.000000          10000.000000  \n",
       "mean       1.003003      1.001300      1.005700              1.880900  \n",
       "std        0.046453      0.036034      0.079172              1.187121  \n",
       "min        1.000000      1.000000      1.000000              1.000000  \n",
       "25%        1.000000      1.000000      1.000000              1.000000  \n",
       "50%        1.000000      1.000000      1.000000              2.000000  \n",
       "75%        1.000000      1.000000      1.000000              2.000000  \n",
       "max        2.500000      2.000000      4.000000             11.000000  "
      ]
     },
     "execution_count": 5,
     "metadata": {},
     "output_type": "execute_result"
    }
   ],
   "source": [
    "df.describe()"
   ]
  },
  {
   "cell_type": "markdown",
   "id": "f42dc0d5",
   "metadata": {},
   "source": [
    "There are 10,000 data points with 20 features. The ID feature is 'consumer_id'. Ther are 2 features with missing values. Next step will check missing values and how I treat them. "
   ]
  },
  {
   "cell_type": "markdown",
   "id": "92777fde",
   "metadata": {},
   "source": [
    "##### Check missing values"
   ]
  },
  {
   "cell_type": "code",
   "execution_count": 6,
   "id": "d3b469fc",
   "metadata": {},
   "outputs": [
    {
     "data": {
      "text/html": [
       "<div>\n",
       "<style scoped>\n",
       "    .dataframe tbody tr th:only-of-type {\n",
       "        vertical-align: middle;\n",
       "    }\n",
       "\n",
       "    .dataframe tbody tr th {\n",
       "        vertical-align: top;\n",
       "    }\n",
       "\n",
       "    .dataframe thead th {\n",
       "        text-align: right;\n",
       "    }\n",
       "</style>\n",
       "<table border=\"1\" class=\"dataframe\">\n",
       "  <thead>\n",
       "    <tr style=\"text-align: right;\">\n",
       "      <th></th>\n",
       "      <th>index</th>\n",
       "      <th>Missing_perc</th>\n",
       "    </tr>\n",
       "  </thead>\n",
       "  <tbody>\n",
       "    <tr>\n",
       "      <th>0</th>\n",
       "      <td>customer_age</td>\n",
       "      <td>59.36</td>\n",
       "    </tr>\n",
       "    <tr>\n",
       "      <th>1</th>\n",
       "      <td>gender</td>\n",
       "      <td>45.22</td>\n",
       "    </tr>\n",
       "    <tr>\n",
       "      <th>2</th>\n",
       "      <td>consumer_id</td>\n",
       "      <td>0.00</td>\n",
       "    </tr>\n",
       "    <tr>\n",
       "      <th>3</th>\n",
       "      <td>app_downloads</td>\n",
       "      <td>0.00</td>\n",
       "    </tr>\n",
       "    <tr>\n",
       "      <th>4</th>\n",
       "      <td>max_claims</td>\n",
       "      <td>0.00</td>\n",
       "    </tr>\n",
       "  </tbody>\n",
       "</table>\n",
       "</div>"
      ],
      "text/plain": [
       "           index  Missing_perc\n",
       "0   customer_age         59.36\n",
       "1         gender         45.22\n",
       "2    consumer_id          0.00\n",
       "3  app_downloads          0.00\n",
       "4     max_claims          0.00"
      ]
     },
     "execution_count": 6,
     "metadata": {},
     "output_type": "execute_result"
    }
   ],
   "source": [
    "def missing_value(df1):\n",
    "  missing1=df1.isnull().mean().mul(100).sort_values(ascending=False).to_frame('Missing_perc').reset_index()\n",
    "  return missing1\n",
    "missing_value(df).head(5)"
   ]
  },
  {
   "cell_type": "code",
   "execution_count": 7,
   "id": "a55c484e",
   "metadata": {},
   "outputs": [
    {
     "data": {
      "text/plain": [
       "NaN    4522\n",
       "m      2864\n",
       "f      2614\n",
       "Name: gender, dtype: int64"
      ]
     },
     "execution_count": 7,
     "metadata": {},
     "output_type": "execute_result"
    }
   ],
   "source": [
    "df.gender.value_counts(dropna=False)"
   ]
  },
  {
   "cell_type": "markdown",
   "id": "b9efdf9f",
   "metadata": {},
   "source": [
    "Found there are 2 features with missing values ('customer_age', 'gender'). I will treat them differently as gender is categorical feature and customer_age is continuos feature."
   ]
  },
  {
   "cell_type": "code",
   "execution_count": 8,
   "id": "85c3d4af",
   "metadata": {},
   "outputs": [],
   "source": [
    "#impute missing gender for later use\n",
    "missing_cat_list=['gender']\n",
    "for i in missing_cat_list:\n",
    "  df[i].fillna('missing', inplace=True)"
   ]
  },
  {
   "cell_type": "code",
   "execution_count": 9,
   "id": "ff8d5125",
   "metadata": {},
   "outputs": [],
   "source": [
    "#impute age using MICE (Multivariate Imputation by Chained Equations)\n",
    "df_dropped= df.drop(['consumer_id','gender'], axis=1)\n",
    "imputed = mice(df_dropped.values)\n",
    "mice_ages = imputed[:, 5]\n",
    "df['customer_age_imputed']= [round(age,0) for age in mice_ages]\n",
    "df['customer_age_imputed'] = df['customer_age_imputed'].apply(lambda x: 15 if (x<15) else x)\n",
    "df['customer_age_imputed'] = df['customer_age_imputed'].apply(lambda x: 119 if (x>119) else x)"
   ]
  },
  {
   "cell_type": "code",
   "execution_count": 10,
   "id": "212d9fdb",
   "metadata": {},
   "outputs": [
    {
     "name": "stdout",
     "output_type": "stream",
     "text": [
      "Columns which only contain a single value or all missing : account_status\n"
     ]
    },
    {
     "data": {
      "text/plain": [
       "['account_status']"
      ]
     },
     "execution_count": 10,
     "metadata": {},
     "output_type": "execute_result"
    }
   ],
   "source": [
    "def list_non_unique_features_pdf(data, drop=True):\n",
    "\n",
    "    if not isinstance(data, pd.core.frame.DataFrame):\n",
    "        raise AssertionError(\"Data is not a pandas DataFrame\")\n",
    "\n",
    "    all_missing_cols = [\n",
    "        col\n",
    "        for col, n_uniques in data.apply(lambda x: len(x.unique()), axis=0).iteritems()\n",
    "        if n_uniques <= 1\n",
    "    ]\n",
    "\n",
    "    if len(all_missing_cols) == 0:\n",
    "        print(\"No columns contain a single value or all missing\")\n",
    "    else:\n",
    "        msg = (\"Columns which only contain a single value or all missing : {}\").format(\n",
    "            (\", \").join(col for col in all_missing_cols)\n",
    "        )\n",
    "\n",
    "        print(msg)\n",
    "\n",
    "        if drop:\n",
    "            data = data.drop(all_missing_cols, axis=1)\n",
    "\n",
    "    return all_missing_cols\n",
    "\n",
    "list_non_unique_features_pdf(df)"
   ]
  },
  {
   "cell_type": "code",
   "execution_count": 11,
   "id": "78621fd1",
   "metadata": {},
   "outputs": [
    {
     "data": {
      "text/plain": [
       "0.0    10000\n",
       "Name: account_status, dtype: int64"
      ]
     },
     "execution_count": 11,
     "metadata": {},
     "output_type": "execute_result"
    }
   ],
   "source": [
    "df['account_status'].value_counts()"
   ]
  },
  {
   "cell_type": "markdown",
   "id": "4103b5a6",
   "metadata": {},
   "source": [
    "'account_status' has only 1 value so it is not useful for modeling or profiling"
   ]
  },
  {
   "cell_type": "markdown",
   "id": "73f75d62",
   "metadata": {},
   "source": [
    "#### Find Duplicates"
   ]
  },
  {
   "cell_type": "code",
   "execution_count": 12,
   "id": "06bd3793",
   "metadata": {},
   "outputs": [
    {
     "data": {
      "text/plain": [
       "224"
      ]
     },
     "execution_count": 12,
     "metadata": {},
     "output_type": "execute_result"
    }
   ],
   "source": [
    "df.duplicated(subset = 'consumer_id',keep=False).sum()"
   ]
  },
  {
   "cell_type": "markdown",
   "id": "3d0cdfed",
   "metadata": {},
   "source": [
    "Found couple hundreds of duplicates 'consumer_id' in the data. Check futher the duplicates are similar in most of the feature but \"app_downloads\". I consider create a new feature to keep tracking those in later stage"
   ]
  },
  {
   "cell_type": "code",
   "execution_count": 13,
   "id": "b5da08d9",
   "metadata": {},
   "outputs": [
    {
     "data": {
      "text/html": [
       "<div>\n",
       "<style scoped>\n",
       "    .dataframe tbody tr th:only-of-type {\n",
       "        vertical-align: middle;\n",
       "    }\n",
       "\n",
       "    .dataframe tbody tr th {\n",
       "        vertical-align: top;\n",
       "    }\n",
       "\n",
       "    .dataframe thead th {\n",
       "        text-align: right;\n",
       "    }\n",
       "</style>\n",
       "<table border=\"1\" class=\"dataframe\">\n",
       "  <thead>\n",
       "    <tr style=\"text-align: right;\">\n",
       "      <th></th>\n",
       "      <th>consumer_id</th>\n",
       "      <th>gender</th>\n",
       "      <th>has_gender</th>\n",
       "      <th>has_first_name</th>\n",
       "      <th>has_last_name</th>\n",
       "      <th>has_email</th>\n",
       "      <th>has_dob</th>\n",
       "      <th>customer_age</th>\n",
       "      <th>account_age</th>\n",
       "      <th>account_last_updated</th>\n",
       "      <th>...</th>\n",
       "      <th>app_downloads</th>\n",
       "      <th>unique_offer_clicked</th>\n",
       "      <th>total_offer_clicks</th>\n",
       "      <th>unique_offer_rides</th>\n",
       "      <th>total_offer_rides</th>\n",
       "      <th>avg_claims</th>\n",
       "      <th>min_claims</th>\n",
       "      <th>max_claims</th>\n",
       "      <th>total_offers_claimed</th>\n",
       "      <th>customer_age_imputed</th>\n",
       "    </tr>\n",
       "  </thead>\n",
       "  <tbody>\n",
       "    <tr>\n",
       "      <th>8990</th>\n",
       "      <td>fee2ea60-9d3d-4e24-b418-359cd92d6c2c</td>\n",
       "      <td>f</td>\n",
       "      <td>1.0</td>\n",
       "      <td>1.0</td>\n",
       "      <td>1.0</td>\n",
       "      <td>1.0</td>\n",
       "      <td>1.0</td>\n",
       "      <td>20.0</td>\n",
       "      <td>184.0</td>\n",
       "      <td>174.0</td>\n",
       "      <td>...</td>\n",
       "      <td>1.0</td>\n",
       "      <td>4.0</td>\n",
       "      <td>9.0</td>\n",
       "      <td>4.0</td>\n",
       "      <td>47.0</td>\n",
       "      <td>1.0</td>\n",
       "      <td>1.0</td>\n",
       "      <td>1.0</td>\n",
       "      <td>1.0</td>\n",
       "      <td>20.0</td>\n",
       "    </tr>\n",
       "    <tr>\n",
       "      <th>8989</th>\n",
       "      <td>fee2ea60-9d3d-4e24-b418-359cd92d6c2c</td>\n",
       "      <td>f</td>\n",
       "      <td>1.0</td>\n",
       "      <td>1.0</td>\n",
       "      <td>1.0</td>\n",
       "      <td>1.0</td>\n",
       "      <td>1.0</td>\n",
       "      <td>20.0</td>\n",
       "      <td>184.0</td>\n",
       "      <td>174.0</td>\n",
       "      <td>...</td>\n",
       "      <td>2.0</td>\n",
       "      <td>4.0</td>\n",
       "      <td>9.0</td>\n",
       "      <td>4.0</td>\n",
       "      <td>47.0</td>\n",
       "      <td>1.0</td>\n",
       "      <td>1.0</td>\n",
       "      <td>1.0</td>\n",
       "      <td>1.0</td>\n",
       "      <td>20.0</td>\n",
       "    </tr>\n",
       "    <tr>\n",
       "      <th>7421</th>\n",
       "      <td>f5a3c8c4-32c2-4f66-9a35-359cd8c01356</td>\n",
       "      <td>missing</td>\n",
       "      <td>0.0</td>\n",
       "      <td>1.0</td>\n",
       "      <td>1.0</td>\n",
       "      <td>1.0</td>\n",
       "      <td>0.0</td>\n",
       "      <td>NaN</td>\n",
       "      <td>184.0</td>\n",
       "      <td>174.0</td>\n",
       "      <td>...</td>\n",
       "      <td>2.0</td>\n",
       "      <td>4.0</td>\n",
       "      <td>6.0</td>\n",
       "      <td>4.0</td>\n",
       "      <td>14.0</td>\n",
       "      <td>1.0</td>\n",
       "      <td>1.0</td>\n",
       "      <td>1.0</td>\n",
       "      <td>1.0</td>\n",
       "      <td>24.0</td>\n",
       "    </tr>\n",
       "    <tr>\n",
       "      <th>7422</th>\n",
       "      <td>f5a3c8c4-32c2-4f66-9a35-359cd8c01356</td>\n",
       "      <td>missing</td>\n",
       "      <td>0.0</td>\n",
       "      <td>1.0</td>\n",
       "      <td>1.0</td>\n",
       "      <td>1.0</td>\n",
       "      <td>0.0</td>\n",
       "      <td>NaN</td>\n",
       "      <td>184.0</td>\n",
       "      <td>174.0</td>\n",
       "      <td>...</td>\n",
       "      <td>1.0</td>\n",
       "      <td>4.0</td>\n",
       "      <td>6.0</td>\n",
       "      <td>4.0</td>\n",
       "      <td>14.0</td>\n",
       "      <td>1.0</td>\n",
       "      <td>1.0</td>\n",
       "      <td>1.0</td>\n",
       "      <td>1.0</td>\n",
       "      <td>24.0</td>\n",
       "    </tr>\n",
       "    <tr>\n",
       "      <th>2960</th>\n",
       "      <td>f55ee256-faac-4d55-8d09-35448e6a8fed</td>\n",
       "      <td>m</td>\n",
       "      <td>1.0</td>\n",
       "      <td>1.0</td>\n",
       "      <td>1.0</td>\n",
       "      <td>1.0</td>\n",
       "      <td>1.0</td>\n",
       "      <td>17.0</td>\n",
       "      <td>633.0</td>\n",
       "      <td>175.0</td>\n",
       "      <td>...</td>\n",
       "      <td>1.0</td>\n",
       "      <td>1.0</td>\n",
       "      <td>1.0</td>\n",
       "      <td>8.0</td>\n",
       "      <td>39.0</td>\n",
       "      <td>1.0</td>\n",
       "      <td>1.0</td>\n",
       "      <td>1.0</td>\n",
       "      <td>1.0</td>\n",
       "      <td>17.0</td>\n",
       "    </tr>\n",
       "    <tr>\n",
       "      <th>...</th>\n",
       "      <td>...</td>\n",
       "      <td>...</td>\n",
       "      <td>...</td>\n",
       "      <td>...</td>\n",
       "      <td>...</td>\n",
       "      <td>...</td>\n",
       "      <td>...</td>\n",
       "      <td>...</td>\n",
       "      <td>...</td>\n",
       "      <td>...</td>\n",
       "      <td>...</td>\n",
       "      <td>...</td>\n",
       "      <td>...</td>\n",
       "      <td>...</td>\n",
       "      <td>...</td>\n",
       "      <td>...</td>\n",
       "      <td>...</td>\n",
       "      <td>...</td>\n",
       "      <td>...</td>\n",
       "      <td>...</td>\n",
       "      <td>...</td>\n",
       "    </tr>\n",
       "    <tr>\n",
       "      <th>7236</th>\n",
       "      <td>037a869d-a284-4da2-8c06-359cda1af62b</td>\n",
       "      <td>missing</td>\n",
       "      <td>0.0</td>\n",
       "      <td>1.0</td>\n",
       "      <td>1.0</td>\n",
       "      <td>1.0</td>\n",
       "      <td>0.0</td>\n",
       "      <td>NaN</td>\n",
       "      <td>184.0</td>\n",
       "      <td>174.0</td>\n",
       "      <td>...</td>\n",
       "      <td>1.0</td>\n",
       "      <td>2.0</td>\n",
       "      <td>3.0</td>\n",
       "      <td>4.0</td>\n",
       "      <td>29.0</td>\n",
       "      <td>1.0</td>\n",
       "      <td>1.0</td>\n",
       "      <td>1.0</td>\n",
       "      <td>1.0</td>\n",
       "      <td>24.0</td>\n",
       "    </tr>\n",
       "    <tr>\n",
       "      <th>7225</th>\n",
       "      <td>01aa83a3-06d5-4356-88c3-359cd984c48e</td>\n",
       "      <td>m</td>\n",
       "      <td>1.0</td>\n",
       "      <td>1.0</td>\n",
       "      <td>1.0</td>\n",
       "      <td>1.0</td>\n",
       "      <td>1.0</td>\n",
       "      <td>19.0</td>\n",
       "      <td>184.0</td>\n",
       "      <td>174.0</td>\n",
       "      <td>...</td>\n",
       "      <td>2.0</td>\n",
       "      <td>1.0</td>\n",
       "      <td>1.0</td>\n",
       "      <td>4.0</td>\n",
       "      <td>11.0</td>\n",
       "      <td>1.0</td>\n",
       "      <td>1.0</td>\n",
       "      <td>1.0</td>\n",
       "      <td>1.0</td>\n",
       "      <td>19.0</td>\n",
       "    </tr>\n",
       "    <tr>\n",
       "      <th>7224</th>\n",
       "      <td>01aa83a3-06d5-4356-88c3-359cd984c48e</td>\n",
       "      <td>m</td>\n",
       "      <td>1.0</td>\n",
       "      <td>1.0</td>\n",
       "      <td>1.0</td>\n",
       "      <td>1.0</td>\n",
       "      <td>1.0</td>\n",
       "      <td>19.0</td>\n",
       "      <td>184.0</td>\n",
       "      <td>174.0</td>\n",
       "      <td>...</td>\n",
       "      <td>1.0</td>\n",
       "      <td>1.0</td>\n",
       "      <td>1.0</td>\n",
       "      <td>4.0</td>\n",
       "      <td>11.0</td>\n",
       "      <td>1.0</td>\n",
       "      <td>1.0</td>\n",
       "      <td>1.0</td>\n",
       "      <td>1.0</td>\n",
       "      <td>19.0</td>\n",
       "    </tr>\n",
       "    <tr>\n",
       "      <th>5000</th>\n",
       "      <td>0047f9db-58c9-40e5-a891-357e4d931c16</td>\n",
       "      <td>missing</td>\n",
       "      <td>0.0</td>\n",
       "      <td>1.0</td>\n",
       "      <td>1.0</td>\n",
       "      <td>1.0</td>\n",
       "      <td>0.0</td>\n",
       "      <td>NaN</td>\n",
       "      <td>339.0</td>\n",
       "      <td>174.0</td>\n",
       "      <td>...</td>\n",
       "      <td>1.0</td>\n",
       "      <td>13.0</td>\n",
       "      <td>27.0</td>\n",
       "      <td>15.0</td>\n",
       "      <td>432.0</td>\n",
       "      <td>1.0</td>\n",
       "      <td>1.0</td>\n",
       "      <td>1.0</td>\n",
       "      <td>4.0</td>\n",
       "      <td>22.0</td>\n",
       "    </tr>\n",
       "    <tr>\n",
       "      <th>5001</th>\n",
       "      <td>0047f9db-58c9-40e5-a891-357e4d931c16</td>\n",
       "      <td>missing</td>\n",
       "      <td>0.0</td>\n",
       "      <td>1.0</td>\n",
       "      <td>1.0</td>\n",
       "      <td>1.0</td>\n",
       "      <td>0.0</td>\n",
       "      <td>NaN</td>\n",
       "      <td>339.0</td>\n",
       "      <td>174.0</td>\n",
       "      <td>...</td>\n",
       "      <td>2.0</td>\n",
       "      <td>13.0</td>\n",
       "      <td>27.0</td>\n",
       "      <td>15.0</td>\n",
       "      <td>432.0</td>\n",
       "      <td>1.0</td>\n",
       "      <td>1.0</td>\n",
       "      <td>1.0</td>\n",
       "      <td>4.0</td>\n",
       "      <td>22.0</td>\n",
       "    </tr>\n",
       "  </tbody>\n",
       "</table>\n",
       "<p>224 rows × 21 columns</p>\n",
       "</div>"
      ],
      "text/plain": [
       "                               consumer_id   gender  has_gender  \\\n",
       "8990  fee2ea60-9d3d-4e24-b418-359cd92d6c2c        f         1.0   \n",
       "8989  fee2ea60-9d3d-4e24-b418-359cd92d6c2c        f         1.0   \n",
       "7421  f5a3c8c4-32c2-4f66-9a35-359cd8c01356  missing         0.0   \n",
       "7422  f5a3c8c4-32c2-4f66-9a35-359cd8c01356  missing         0.0   \n",
       "2960  f55ee256-faac-4d55-8d09-35448e6a8fed        m         1.0   \n",
       "...                                    ...      ...         ...   \n",
       "7236  037a869d-a284-4da2-8c06-359cda1af62b  missing         0.0   \n",
       "7225  01aa83a3-06d5-4356-88c3-359cd984c48e        m         1.0   \n",
       "7224  01aa83a3-06d5-4356-88c3-359cd984c48e        m         1.0   \n",
       "5000  0047f9db-58c9-40e5-a891-357e4d931c16  missing         0.0   \n",
       "5001  0047f9db-58c9-40e5-a891-357e4d931c16  missing         0.0   \n",
       "\n",
       "      has_first_name  has_last_name  has_email  has_dob  customer_age  \\\n",
       "8990             1.0            1.0        1.0      1.0          20.0   \n",
       "8989             1.0            1.0        1.0      1.0          20.0   \n",
       "7421             1.0            1.0        1.0      0.0           NaN   \n",
       "7422             1.0            1.0        1.0      0.0           NaN   \n",
       "2960             1.0            1.0        1.0      1.0          17.0   \n",
       "...              ...            ...        ...      ...           ...   \n",
       "7236             1.0            1.0        1.0      0.0           NaN   \n",
       "7225             1.0            1.0        1.0      1.0          19.0   \n",
       "7224             1.0            1.0        1.0      1.0          19.0   \n",
       "5000             1.0            1.0        1.0      0.0           NaN   \n",
       "5001             1.0            1.0        1.0      0.0           NaN   \n",
       "\n",
       "      account_age  account_last_updated  ...  app_downloads  \\\n",
       "8990        184.0                 174.0  ...            1.0   \n",
       "8989        184.0                 174.0  ...            2.0   \n",
       "7421        184.0                 174.0  ...            2.0   \n",
       "7422        184.0                 174.0  ...            1.0   \n",
       "2960        633.0                 175.0  ...            1.0   \n",
       "...           ...                   ...  ...            ...   \n",
       "7236        184.0                 174.0  ...            1.0   \n",
       "7225        184.0                 174.0  ...            2.0   \n",
       "7224        184.0                 174.0  ...            1.0   \n",
       "5000        339.0                 174.0  ...            1.0   \n",
       "5001        339.0                 174.0  ...            2.0   \n",
       "\n",
       "      unique_offer_clicked  total_offer_clicks  unique_offer_rides  \\\n",
       "8990                   4.0                 9.0                 4.0   \n",
       "8989                   4.0                 9.0                 4.0   \n",
       "7421                   4.0                 6.0                 4.0   \n",
       "7422                   4.0                 6.0                 4.0   \n",
       "2960                   1.0                 1.0                 8.0   \n",
       "...                    ...                 ...                 ...   \n",
       "7236                   2.0                 3.0                 4.0   \n",
       "7225                   1.0                 1.0                 4.0   \n",
       "7224                   1.0                 1.0                 4.0   \n",
       "5000                  13.0                27.0                15.0   \n",
       "5001                  13.0                27.0                15.0   \n",
       "\n",
       "      total_offer_rides  avg_claims  min_claims  max_claims  \\\n",
       "8990               47.0         1.0         1.0         1.0   \n",
       "8989               47.0         1.0         1.0         1.0   \n",
       "7421               14.0         1.0         1.0         1.0   \n",
       "7422               14.0         1.0         1.0         1.0   \n",
       "2960               39.0         1.0         1.0         1.0   \n",
       "...                 ...         ...         ...         ...   \n",
       "7236               29.0         1.0         1.0         1.0   \n",
       "7225               11.0         1.0         1.0         1.0   \n",
       "7224               11.0         1.0         1.0         1.0   \n",
       "5000              432.0         1.0         1.0         1.0   \n",
       "5001              432.0         1.0         1.0         1.0   \n",
       "\n",
       "      total_offers_claimed  customer_age_imputed  \n",
       "8990                   1.0                  20.0  \n",
       "8989                   1.0                  20.0  \n",
       "7421                   1.0                  24.0  \n",
       "7422                   1.0                  24.0  \n",
       "2960                   1.0                  17.0  \n",
       "...                    ...                   ...  \n",
       "7236                   1.0                  24.0  \n",
       "7225                   1.0                  19.0  \n",
       "7224                   1.0                  19.0  \n",
       "5000                   4.0                  22.0  \n",
       "5001                   4.0                  22.0  \n",
       "\n",
       "[224 rows x 21 columns]"
      ]
     },
     "execution_count": 13,
     "metadata": {},
     "output_type": "execute_result"
    }
   ],
   "source": [
    "df[df[\"consumer_id\"].duplicated(keep=False)].sort_values(['consumer_id'],ascending=False)"
   ]
  },
  {
   "cell_type": "code",
   "execution_count": 14,
   "id": "173c47ab",
   "metadata": {},
   "outputs": [],
   "source": [
    "df['duplicated']=df[\"consumer_id\"].duplicated(keep=False)"
   ]
  },
  {
   "cell_type": "markdown",
   "id": "3f1b4a6c",
   "metadata": {},
   "source": [
    "##### Check outlier by IQR (Interquartile Range) and Box Plot"
   ]
  },
  {
   "cell_type": "code",
   "execution_count": 15,
   "id": "46208a71",
   "metadata": {},
   "outputs": [
    {
     "name": "stdout",
     "output_type": "stream",
     "text": [
      "                  index    0\n",
      "0  total_offers_claimed  978\n",
      "1     total_offer_rides  550\n",
      "2  unique_offer_clicked  444\n",
      "3    total_offer_clicks  383\n",
      "4         app_downloads  308\n"
     ]
    },
    {
     "data": {
      "image/png": "[encoded data removed]",
      "text/plain": [
       "<Figure size 1440x720 with 6 Axes>"
      ]
     },
     "metadata": {
      "needs_background": "light"
     },
     "output_type": "display_data"
    }
   ],
   "source": [
    "outlier_excl=['consumer_id',\"gender\",'duplicated','customer_age',\"duplicated\",'customer_age_imputed',\n",
    "              'account_age','account_last_updated']\n",
    "def IQR(df):\n",
    "  df=df.loc[:, ~df.columns.isin(outlier_excl)]\n",
    "  Q1 = df.quantile(0.25)\n",
    "  Q3 = df.quantile(0.75)\n",
    "  IQR = Q3 - Q1\n",
    "  df_outlier=((df < (Q1 - 1.5 * IQR)) | (df > (Q3 + 1.5 * IQR))).sum()\n",
    "  return df_outlier.sort_values(ascending=False).reset_index()\n",
    "no_of_outlier_threshold=100\n",
    "outlier1=IQR(df)\n",
    "print(outlier1.loc[outlier1[0]>no_of_outlier_threshold,:])\n",
    "\n",
    "outlier_list1=outlier1.loc[outlier1[0]>no_of_outlier_threshold,:][\"index\"]\n",
    "fig, axes = plt.subplots(ncols=3, nrows=2,figsize=(20, 10))\n",
    "for i, ax in zip(outlier_list1, axes.flatten()):\n",
    "    ax.boxplot(df[i])\n",
    "    ax.title.set_text(i)\n",
    "plt.show()\n"
   ]
  },
  {
   "cell_type": "markdown",
   "id": "da27f7c4",
   "metadata": {},
   "source": [
    "This is the first method we use to detect outlier or anomaly observations. We are using the IQR method which define an outlier is a datapoint low than Q1- 1.5*IQR or larger than Q3+1.5*IQR ( IQR= Third quartile(Q3) - First Quartile(Q2). This method help us to identify by visual how many outliers in each feature.\n",
    "\n",
    "Among all feature, we found there are 5 features ('total_offers_claimed', 'total_offer_rides', 'unique_offer_clicked', 'total_offer_clicks','app_downloads') having more than 100 outliers using the IQR method.\n",
    "\n",
    "By visualising those feature in box plot, we can easily see the outliers. \n",
    "\n",
    "This method only help to identify if any outlier in each seperate variable and can be used as a reference as feature selection. "
   ]
  },
  {
   "cell_type": "markdown",
   "id": "ec5f3a5c",
   "metadata": {},
   "source": [
    "##### Check Pearson Correlation "
   ]
  },
  {
   "cell_type": "code",
   "execution_count": 16,
   "id": "d74f7ab8",
   "metadata": {},
   "outputs": [
    {
     "data": {
      "image/png": "[encoded data removed]",
      "text/plain": [
       "<Figure size 576x576 with 2 Axes>"
      ]
     },
     "metadata": {
      "needs_background": "light"
     },
     "output_type": "display_data"
    }
   ],
   "source": [
    "corr = df.corr()\n",
    "plt.rcParams[\"figure.figsize\"] = (8,8)\n",
    "\n",
    "ax = sns.heatmap(\n",
    "    corr, \n",
    "    vmin=-1, vmax=1, center=0,\n",
    "    cmap=sns.diverging_palette(20, 220, n=200),\n",
    "    square=True\n",
    ")\n",
    "ax.set_xticklabels(ax.get_xticklabels(),rotation=45,horizontalalignment='right'\n",
    ");"
   ]
  },
  {
   "cell_type": "markdown",
   "id": "f9124020",
   "metadata": {},
   "source": [
    "Do a quick check of Pearson Correlation to see if any features have high correlated with another feature.\n",
    "Easily can see 'customer_age' and 'customer_imputed_age' are highly correlated and a few highly correlation in click/ride/claim features. This should be taken into account when select feature for the model. "
   ]
  },
  {
   "cell_type": "code",
   "execution_count": 17,
   "id": "2f2bd2ac",
   "metadata": {},
   "outputs": [
    {
     "name": "stdout",
     "output_type": "stream",
     "text": [
      "gender\n",
      "3\n",
      "duplicated\n",
      "2\n"
     ]
    }
   ],
   "source": [
    "dummy_list = ['gender','duplicated']\n",
    "\n",
    "# One hot encoding\n",
    "for i in dummy_list:  \n",
    "    print(i)\n",
    "    print(df[i].nunique())\n",
    "    df_d = pd.get_dummies(df[i],prefix=i, drop_first=False,dummy_na=False)\n",
    "#   df = df.drop(columns = [i])\n",
    "    df = pd.concat([df, df_d], axis=1,sort=False)"
   ]
  },
  {
   "cell_type": "markdown",
   "id": "41dc3eee",
   "metadata": {},
   "source": [
    "#### Feature Selection"
   ]
  },
  {
   "cell_type": "code",
   "execution_count": 18,
   "id": "ca2fd9ed",
   "metadata": {},
   "outputs": [],
   "source": [
    "cols = [i.lower() for i in df.columns ]\n",
    "df.columns = cols"
   ]
  },
  {
   "cell_type": "markdown",
   "id": "400dd030",
   "metadata": {},
   "source": [
    "Base on our Exploratory Data Analysis and Inference statistics, we only use 'app_downloads','unique_offer_clicked','total_offer_clicks','total_offer_rides','total_offers_claimed' for data modeling. Those variables are representative for engagement profile and commute profile. \n",
    "\n",
    "The rest features (including new created features) will be used for profiling fraud customers. "
   ]
  },
  {
   "cell_type": "code",
   "execution_count": 19,
   "id": "96634e46",
   "metadata": {},
   "outputs": [],
   "source": [
    "train_feature=['app_downloads','unique_offer_clicked','total_offer_clicks','total_offer_rides','total_offers_claimed']\n",
    "\n",
    "profile_feature=['gender','has_first_name',\n",
    " 'has_last_name',\n",
    " 'has_email',\n",
    " 'has_dob',\n",
    " 'account_age',\n",
    " 'account_last_updated',\n",
    " 'app_downloads',\n",
    " 'unique_offer_clicked',\n",
    " 'total_offer_clicks',\n",
    " 'unique_offer_rides',\n",
    " 'total_offer_rides',\n",
    " 'avg_claims',\n",
    " 'min_claims',\n",
    " 'max_claims',\n",
    " 'total_offers_claimed',\n",
    " 'duplicated',\n",
    " 'customer_age_imputed',\n",
    " 'gender_f',\n",
    " 'gender_m',\n",
    " 'gender_missing',\n",
    " 'duplicated_false',\n",
    " 'duplicated_true']\n",
    "# list of feature in numeric format using for profiling\n",
    "profile_number=[\n",
    " 'account_age',\n",
    " 'account_last_updated',\n",
    " 'app_downloads',\n",
    " 'unique_offer_clicked',\n",
    " 'total_offer_clicks',\n",
    " 'unique_offer_rides',\n",
    " 'total_offer_rides',\n",
    " 'avg_claims',\n",
    " 'min_claims',\n",
    " 'max_claims',\n",
    " 'total_offers_claimed',\n",
    " 'customer_age_imputed']\n",
    "# list of feature in categorical format using for profiling\n",
    "profile_cat=['gender','has_first_name',\n",
    " 'has_last_name',\n",
    " 'has_email',\n",
    " 'has_dob',\n",
    " 'duplicated']"
   ]
  },
  {
   "cell_type": "code",
   "execution_count": 20,
   "id": "f55cf5c5",
   "metadata": {},
   "outputs": [],
   "source": [
    "df_train = df.loc[:,train_feature]"
   ]
  },
  {
   "cell_type": "markdown",
   "id": "682503f3",
   "metadata": {},
   "source": [
    "#### Model Training"
   ]
  },
  {
   "cell_type": "markdown",
   "id": "5dd043b7",
   "metadata": {},
   "source": [
    "The data is unlabeled so we only can use unsupervised machine learning model. Isolation Forest is the algorithm to be used in this project. The Isolation Forest  ‘isolates’ observations by randomly selecting a feature and then randomly selecting a split value between the maximum and minimum values of the selected feature (source: https://scikit-learn.org/stable/modules/generated/sklearn.ensemble.IsolationForest.html#sklearn.ensemble.IsolationForest) \n",
    "\n",
    "Isolation Forest is choosen for following reasons: \n",
    "* One of the fastest algorithm to detect anomaly\n",
    "* Don't need any feature standisation or normalisation\n",
    "* Don't need any feature reduction method\n",
    "* Easy to use the model output\n",
    "* Suitable for constraint of time and effort for this project. "
   ]
  },
  {
   "cell_type": "markdown",
   "id": "fc3d5da5",
   "metadata": {},
   "source": [
    "Key model parameters:\n",
    "* n_estimators: The number of base estimators in the ensemble (default =100)\n",
    "* max_samples:The number of samples to draw from training dataset to train each base estimator (default = 256)\n",
    "* contamination: The amount of contamination of the data set, i.e. the proportion of outliers in the data set. Used when fitting to define the threshold on the scores of the samples. (default = 0.1)\n",
    "\n",
    "We are using unlabeled data to train the model so we can't run any parameter tuning to choose the best parameter for the model. So for now using the all default parameters except contamination = 0.05 which mean we expected about 3% of the dataset is outliers.  "
   ]
  },
  {
   "cell_type": "code",
   "execution_count": 21,
   "id": "11d7767a",
   "metadata": {},
   "outputs": [
    {
     "name": "stdout",
     "output_type": "stream",
     "text": [
      "IsolationForest(contamination=0.03, max_samples=256)\n"
     ]
    },
    {
     "data": {
      "image/png": "[encoded data removed]",
      "text/plain": [
       "<Figure size 1440x720 with 6 Axes>"
      ]
     },
     "metadata": {
      "needs_background": "light"
     },
     "output_type": "display_data"
    }
   ],
   "source": [
    "estimator=100\n",
    "max_sample=256\n",
    "contamination=0.03\n",
    "\n",
    "iforest = IsolationForest(n_estimators=estimator, max_samples=max_sample, contamination=contamination)\n",
    "print(iforest)\n",
    "\n",
    "#fit the model\n",
    "iforest.fit(df_train)\n",
    "\n",
    "#get prediction from model\n",
    "pred =iforest.predict(df_train)\n",
    "\n",
    "#Visualise anomoly\n",
    "anom_index = np.where(pred ==-1)\n",
    "values = df_train.iloc[anom_index]\n",
    "fig, axes = plt.subplots(ncols=3, nrows=2,figsize=(20, 10))\n",
    "for i, ax in zip(train_feature, axes.flatten()):\n",
    "    for j in train_feature:\n",
    "        if i!=j:\n",
    "            ax.scatter(df_train[i], df_train[j],color='g')\n",
    "            ax.scatter(values[i], values[j], color='r')\n",
    "            ax.set_xlabel(i)\n",
    "            ax.set_ylabel(j)\n",
    "plt.show()          "
   ]
  },
  {
   "cell_type": "code",
   "execution_count": 22,
   "id": "f7f7fb51",
   "metadata": {},
   "outputs": [
    {
     "data": {
      "text/plain": [
       "9700"
      ]
     },
     "execution_count": 22,
     "metadata": {},
     "output_type": "execute_result"
    }
   ],
   "source": [
    "np.count_nonzero(pred == 1)"
   ]
  },
  {
   "cell_type": "markdown",
   "id": "d65ed074",
   "metadata": {},
   "source": [
    "Model identify 3% of dataset (300 observations) as outlier or anomaly. Those fraud customers are visualised in red color in the chart above. \n",
    "\n",
    "IsolationForest is not able to provide feature importance which help us to find which feature is important to identify the outliers. We need to use another tree model to identify the feature important base on all features and predicted value from Isolation Forest. \n"
   ]
  },
  {
   "cell_type": "code",
   "execution_count": 23,
   "id": "da22e85b",
   "metadata": {
    "scrolled": false
   },
   "outputs": [
    {
     "data": {
      "image/png": "[encoded data removed]",
      "text/plain": [
       "<Figure size 576x576 with 1 Axes>"
      ]
     },
     "metadata": {
      "needs_background": "light"
     },
     "output_type": "display_data"
    }
   ],
   "source": [
    "from sklearn.ensemble import RandomForestRegressor\n",
    "rf = RandomForestRegressor(max_depth=6, random_state=1, n_estimators=100)\n",
    "rf.fit(df_train, pred)  \n",
    "importances = rf.feature_importances_\n",
    "indices = np.argsort(importances)\n",
    "features = df_train.columns\n",
    "plt.title('Feature Importances')\n",
    "plt.barh(range(len(indices)), importances[indices], color='b', align='center')\n",
    "plt.yticks(range(len(indices)), [features[i] for i in indices])\n",
    "plt.xlabel('Relative Importance')\n",
    "plt.show()"
   ]
  },
  {
   "cell_type": "markdown",
   "id": "508f7cb7",
   "metadata": {},
   "source": [
    "We can see 'unique_offer_clicked' is the most important feature to determine which customer are likely to be fraud\n",
    "In oppsite, 'app_downloads' is less important feature."
   ]
  },
  {
   "cell_type": "markdown",
   "id": "dc7fd087",
   "metadata": {},
   "source": [
    "#### Findings"
   ]
  },
  {
   "cell_type": "markdown",
   "id": "fb5c01f2",
   "metadata": {},
   "source": [
    "Save prediction value back to training data to find some key insight"
   ]
  },
  {
   "cell_type": "code",
   "execution_count": 24,
   "id": "2673cec2",
   "metadata": {},
   "outputs": [],
   "source": [
    "df_trained=df[profile_feature]\n",
    "df_trained['label']= pred\n",
    "df_trained['label_name']= df_trained['label'].apply(lambda x: \"Outlier\" if (x==-1) else \"Inliner\")"
   ]
  },
  {
   "cell_type": "code",
   "execution_count": 25,
   "id": "f40dec76",
   "metadata": {},
   "outputs": [
    {
     "data": {
      "text/plain": [
       "Inliner    9700\n",
       "Outlier     300\n",
       "Name: label_name, dtype: int64"
      ]
     },
     "execution_count": 25,
     "metadata": {},
     "output_type": "execute_result"
    }
   ],
   "source": [
    "df_trained['label_name'].value_counts()"
   ]
  },
  {
   "cell_type": "code",
   "execution_count": 26,
   "id": "73b15c73",
   "metadata": {},
   "outputs": [
    {
     "data": {
      "image/png": "[encoded data removed]",
      "text/plain": [
       "<Figure size 288x288 with 1 Axes>"
      ]
     },
     "metadata": {
      "needs_background": "light"
     },
     "output_type": "display_data"
    },
    {
     "data": {
      "image/png": "[encoded data removed]",
      "text/plain": [
       "<Figure size 288x288 with 1 Axes>"
      ]
     },
     "metadata": {
      "needs_background": "light"
     },
     "output_type": "display_data"
    },
    {
     "data": {
      "image/png": "[encoded data removed]",
      "text/plain": [
       "<Figure size 288x288 with 1 Axes>"
      ]
     },
     "metadata": {
      "needs_background": "light"
     },
     "output_type": "display_data"
    },
    {
     "data": {
      "image/png": "[encoded data removed]",
      "text/plain": [
       "<Figure size 288x288 with 1 Axes>"
      ]
     },
     "metadata": {
      "needs_background": "light"
     },
     "output_type": "display_data"
    },
    {
     "data": {
      "image/png": "[encoded data removed]",
      "text/plain": [
       "<Figure size 288x288 with 1 Axes>"
      ]
     },
     "metadata": {
      "needs_background": "light"
     },
     "output_type": "display_data"
    }
   ],
   "source": [
    "plt.rcParams[\"figure.figsize\"] = (4,4)\n",
    "for i in train_feature:\n",
    "    df_trained.boxplot(i, by=\"label_name\")"
   ]
  },
  {
   "cell_type": "code",
   "execution_count": 27,
   "id": "31b70bd9",
   "metadata": {},
   "outputs": [
    {
     "data": {
      "text/html": [
       "<div>\n",
       "<style scoped>\n",
       "    .dataframe tbody tr th:only-of-type {\n",
       "        vertical-align: middle;\n",
       "    }\n",
       "\n",
       "    .dataframe tbody tr th {\n",
       "        vertical-align: top;\n",
       "    }\n",
       "\n",
       "    .dataframe thead th {\n",
       "        text-align: right;\n",
       "    }\n",
       "</style>\n",
       "<table border=\"1\" class=\"dataframe\">\n",
       "  <thead>\n",
       "    <tr style=\"text-align: right;\">\n",
       "      <th>label_name</th>\n",
       "      <th>Inliner</th>\n",
       "      <th>Outlier</th>\n",
       "    </tr>\n",
       "  </thead>\n",
       "  <tbody>\n",
       "    <tr>\n",
       "      <th>account_age</th>\n",
       "      <td>244.328660</td>\n",
       "      <td>293.926667</td>\n",
       "    </tr>\n",
       "    <tr>\n",
       "      <th>account_last_updated</th>\n",
       "      <td>174.256804</td>\n",
       "      <td>174.253333</td>\n",
       "    </tr>\n",
       "    <tr>\n",
       "      <th>app_downloads</th>\n",
       "      <td>1.022268</td>\n",
       "      <td>1.353333</td>\n",
       "    </tr>\n",
       "    <tr>\n",
       "      <th>unique_offer_clicked</th>\n",
       "      <td>3.031443</td>\n",
       "      <td>7.730000</td>\n",
       "    </tr>\n",
       "    <tr>\n",
       "      <th>total_offer_clicks</th>\n",
       "      <td>5.401649</td>\n",
       "      <td>19.533333</td>\n",
       "    </tr>\n",
       "    <tr>\n",
       "      <th>unique_offer_rides</th>\n",
       "      <td>7.372062</td>\n",
       "      <td>12.186667</td>\n",
       "    </tr>\n",
       "    <tr>\n",
       "      <th>total_offer_rides</th>\n",
       "      <td>63.016289</td>\n",
       "      <td>243.470000</td>\n",
       "    </tr>\n",
       "    <tr>\n",
       "      <th>avg_claims</th>\n",
       "      <td>1.003021</td>\n",
       "      <td>1.002444</td>\n",
       "    </tr>\n",
       "    <tr>\n",
       "      <th>min_claims</th>\n",
       "      <td>1.001340</td>\n",
       "      <td>1.000000</td>\n",
       "    </tr>\n",
       "    <tr>\n",
       "      <th>max_claims</th>\n",
       "      <td>1.005670</td>\n",
       "      <td>1.006667</td>\n",
       "    </tr>\n",
       "    <tr>\n",
       "      <th>total_offers_claimed</th>\n",
       "      <td>1.814021</td>\n",
       "      <td>4.043333</td>\n",
       "    </tr>\n",
       "    <tr>\n",
       "      <th>customer_age_imputed</th>\n",
       "      <td>23.382784</td>\n",
       "      <td>22.833333</td>\n",
       "    </tr>\n",
       "  </tbody>\n",
       "</table>\n",
       "</div>"
      ],
      "text/plain": [
       "label_name               Inliner     Outlier\n",
       "account_age           244.328660  293.926667\n",
       "account_last_updated  174.256804  174.253333\n",
       "app_downloads           1.022268    1.353333\n",
       "unique_offer_clicked    3.031443    7.730000\n",
       "total_offer_clicks      5.401649   19.533333\n",
       "unique_offer_rides      7.372062   12.186667\n",
       "total_offer_rides      63.016289  243.470000\n",
       "avg_claims              1.003021    1.002444\n",
       "min_claims              1.001340    1.000000\n",
       "max_claims              1.005670    1.006667\n",
       "total_offers_claimed    1.814021    4.043333\n",
       "customer_age_imputed   23.382784   22.833333"
      ]
     },
     "execution_count": 27,
     "metadata": {},
     "output_type": "execute_result"
    }
   ],
   "source": [
    "df_trained.groupby('label_name')[profile_number].mean().T"
   ]
  },
  {
   "cell_type": "code",
   "execution_count": 28,
   "id": "ddc0e5d0",
   "metadata": {},
   "outputs": [
    {
     "data": {
      "text/html": [
       "<div>\n",
       "<style scoped>\n",
       "    .dataframe tbody tr th:only-of-type {\n",
       "        vertical-align: middle;\n",
       "    }\n",
       "\n",
       "    .dataframe tbody tr th {\n",
       "        vertical-align: top;\n",
       "    }\n",
       "\n",
       "    .dataframe thead th {\n",
       "        text-align: right;\n",
       "    }\n",
       "</style>\n",
       "<table border=\"1\" class=\"dataframe\">\n",
       "  <thead>\n",
       "    <tr style=\"text-align: right;\">\n",
       "      <th></th>\n",
       "      <th>gender</th>\n",
       "      <th>has_first_name</th>\n",
       "      <th>has_last_name</th>\n",
       "      <th>has_email</th>\n",
       "      <th>has_dob</th>\n",
       "      <th>account_age</th>\n",
       "      <th>account_last_updated</th>\n",
       "      <th>app_downloads</th>\n",
       "      <th>unique_offer_clicked</th>\n",
       "      <th>total_offer_clicks</th>\n",
       "      <th>...</th>\n",
       "      <th>total_offers_claimed</th>\n",
       "      <th>duplicated</th>\n",
       "      <th>customer_age_imputed</th>\n",
       "      <th>gender_f</th>\n",
       "      <th>gender_m</th>\n",
       "      <th>gender_missing</th>\n",
       "      <th>duplicated_false</th>\n",
       "      <th>duplicated_true</th>\n",
       "      <th>label</th>\n",
       "      <th>label_name</th>\n",
       "    </tr>\n",
       "  </thead>\n",
       "  <tbody>\n",
       "    <tr>\n",
       "      <th>54</th>\n",
       "      <td>missing</td>\n",
       "      <td>1.0</td>\n",
       "      <td>1.0</td>\n",
       "      <td>1.0</td>\n",
       "      <td>0.0</td>\n",
       "      <td>189.0</td>\n",
       "      <td>174.0</td>\n",
       "      <td>2.0</td>\n",
       "      <td>3.0</td>\n",
       "      <td>3.0</td>\n",
       "      <td>...</td>\n",
       "      <td>2.0</td>\n",
       "      <td>True</td>\n",
       "      <td>24.0</td>\n",
       "      <td>0</td>\n",
       "      <td>0</td>\n",
       "      <td>1</td>\n",
       "      <td>0</td>\n",
       "      <td>1</td>\n",
       "      <td>-1</td>\n",
       "      <td>Outlier</td>\n",
       "    </tr>\n",
       "    <tr>\n",
       "      <th>91</th>\n",
       "      <td>f</td>\n",
       "      <td>1.0</td>\n",
       "      <td>1.0</td>\n",
       "      <td>1.0</td>\n",
       "      <td>1.0</td>\n",
       "      <td>483.0</td>\n",
       "      <td>174.0</td>\n",
       "      <td>1.0</td>\n",
       "      <td>9.0</td>\n",
       "      <td>27.0</td>\n",
       "      <td>...</td>\n",
       "      <td>5.0</td>\n",
       "      <td>False</td>\n",
       "      <td>18.0</td>\n",
       "      <td>1</td>\n",
       "      <td>0</td>\n",
       "      <td>0</td>\n",
       "      <td>1</td>\n",
       "      <td>0</td>\n",
       "      <td>-1</td>\n",
       "      <td>Outlier</td>\n",
       "    </tr>\n",
       "    <tr>\n",
       "      <th>152</th>\n",
       "      <td>m</td>\n",
       "      <td>1.0</td>\n",
       "      <td>1.0</td>\n",
       "      <td>1.0</td>\n",
       "      <td>1.0</td>\n",
       "      <td>233.0</td>\n",
       "      <td>174.0</td>\n",
       "      <td>2.0</td>\n",
       "      <td>6.0</td>\n",
       "      <td>10.0</td>\n",
       "      <td>...</td>\n",
       "      <td>1.0</td>\n",
       "      <td>False</td>\n",
       "      <td>22.0</td>\n",
       "      <td>0</td>\n",
       "      <td>1</td>\n",
       "      <td>0</td>\n",
       "      <td>1</td>\n",
       "      <td>0</td>\n",
       "      <td>-1</td>\n",
       "      <td>Outlier</td>\n",
       "    </tr>\n",
       "    <tr>\n",
       "      <th>197</th>\n",
       "      <td>missing</td>\n",
       "      <td>1.0</td>\n",
       "      <td>1.0</td>\n",
       "      <td>1.0</td>\n",
       "      <td>1.0</td>\n",
       "      <td>648.0</td>\n",
       "      <td>175.0</td>\n",
       "      <td>2.0</td>\n",
       "      <td>3.0</td>\n",
       "      <td>8.0</td>\n",
       "      <td>...</td>\n",
       "      <td>2.0</td>\n",
       "      <td>False</td>\n",
       "      <td>19.0</td>\n",
       "      <td>0</td>\n",
       "      <td>0</td>\n",
       "      <td>1</td>\n",
       "      <td>1</td>\n",
       "      <td>0</td>\n",
       "      <td>-1</td>\n",
       "      <td>Outlier</td>\n",
       "    </tr>\n",
       "    <tr>\n",
       "      <th>236</th>\n",
       "      <td>missing</td>\n",
       "      <td>1.0</td>\n",
       "      <td>1.0</td>\n",
       "      <td>1.0</td>\n",
       "      <td>0.0</td>\n",
       "      <td>180.0</td>\n",
       "      <td>177.0</td>\n",
       "      <td>2.0</td>\n",
       "      <td>6.0</td>\n",
       "      <td>10.0</td>\n",
       "      <td>...</td>\n",
       "      <td>4.0</td>\n",
       "      <td>False</td>\n",
       "      <td>24.0</td>\n",
       "      <td>0</td>\n",
       "      <td>0</td>\n",
       "      <td>1</td>\n",
       "      <td>1</td>\n",
       "      <td>0</td>\n",
       "      <td>-1</td>\n",
       "      <td>Outlier</td>\n",
       "    </tr>\n",
       "    <tr>\n",
       "      <th>...</th>\n",
       "      <td>...</td>\n",
       "      <td>...</td>\n",
       "      <td>...</td>\n",
       "      <td>...</td>\n",
       "      <td>...</td>\n",
       "      <td>...</td>\n",
       "      <td>...</td>\n",
       "      <td>...</td>\n",
       "      <td>...</td>\n",
       "      <td>...</td>\n",
       "      <td>...</td>\n",
       "      <td>...</td>\n",
       "      <td>...</td>\n",
       "      <td>...</td>\n",
       "      <td>...</td>\n",
       "      <td>...</td>\n",
       "      <td>...</td>\n",
       "      <td>...</td>\n",
       "      <td>...</td>\n",
       "      <td>...</td>\n",
       "      <td>...</td>\n",
       "    </tr>\n",
       "    <tr>\n",
       "      <th>9843</th>\n",
       "      <td>missing</td>\n",
       "      <td>1.0</td>\n",
       "      <td>1.0</td>\n",
       "      <td>1.0</td>\n",
       "      <td>0.0</td>\n",
       "      <td>188.0</td>\n",
       "      <td>174.0</td>\n",
       "      <td>1.0</td>\n",
       "      <td>8.0</td>\n",
       "      <td>26.0</td>\n",
       "      <td>...</td>\n",
       "      <td>1.0</td>\n",
       "      <td>False</td>\n",
       "      <td>23.0</td>\n",
       "      <td>0</td>\n",
       "      <td>0</td>\n",
       "      <td>1</td>\n",
       "      <td>1</td>\n",
       "      <td>0</td>\n",
       "      <td>-1</td>\n",
       "      <td>Outlier</td>\n",
       "    </tr>\n",
       "    <tr>\n",
       "      <th>9926</th>\n",
       "      <td>missing</td>\n",
       "      <td>1.0</td>\n",
       "      <td>1.0</td>\n",
       "      <td>1.0</td>\n",
       "      <td>0.0</td>\n",
       "      <td>193.0</td>\n",
       "      <td>174.0</td>\n",
       "      <td>1.0</td>\n",
       "      <td>9.0</td>\n",
       "      <td>16.0</td>\n",
       "      <td>...</td>\n",
       "      <td>5.0</td>\n",
       "      <td>False</td>\n",
       "      <td>23.0</td>\n",
       "      <td>0</td>\n",
       "      <td>0</td>\n",
       "      <td>1</td>\n",
       "      <td>1</td>\n",
       "      <td>0</td>\n",
       "      <td>-1</td>\n",
       "      <td>Outlier</td>\n",
       "    </tr>\n",
       "    <tr>\n",
       "      <th>9952</th>\n",
       "      <td>f</td>\n",
       "      <td>1.0</td>\n",
       "      <td>1.0</td>\n",
       "      <td>1.0</td>\n",
       "      <td>1.0</td>\n",
       "      <td>183.0</td>\n",
       "      <td>174.0</td>\n",
       "      <td>1.0</td>\n",
       "      <td>8.0</td>\n",
       "      <td>21.0</td>\n",
       "      <td>...</td>\n",
       "      <td>1.0</td>\n",
       "      <td>False</td>\n",
       "      <td>19.0</td>\n",
       "      <td>1</td>\n",
       "      <td>0</td>\n",
       "      <td>0</td>\n",
       "      <td>1</td>\n",
       "      <td>0</td>\n",
       "      <td>-1</td>\n",
       "      <td>Outlier</td>\n",
       "    </tr>\n",
       "    <tr>\n",
       "      <th>9957</th>\n",
       "      <td>missing</td>\n",
       "      <td>1.0</td>\n",
       "      <td>1.0</td>\n",
       "      <td>1.0</td>\n",
       "      <td>0.0</td>\n",
       "      <td>584.0</td>\n",
       "      <td>177.0</td>\n",
       "      <td>2.0</td>\n",
       "      <td>8.0</td>\n",
       "      <td>12.0</td>\n",
       "      <td>...</td>\n",
       "      <td>2.0</td>\n",
       "      <td>False</td>\n",
       "      <td>21.0</td>\n",
       "      <td>0</td>\n",
       "      <td>0</td>\n",
       "      <td>1</td>\n",
       "      <td>1</td>\n",
       "      <td>0</td>\n",
       "      <td>-1</td>\n",
       "      <td>Outlier</td>\n",
       "    </tr>\n",
       "    <tr>\n",
       "      <th>9982</th>\n",
       "      <td>f</td>\n",
       "      <td>1.0</td>\n",
       "      <td>1.0</td>\n",
       "      <td>1.0</td>\n",
       "      <td>1.0</td>\n",
       "      <td>190.0</td>\n",
       "      <td>174.0</td>\n",
       "      <td>1.0</td>\n",
       "      <td>10.0</td>\n",
       "      <td>42.0</td>\n",
       "      <td>...</td>\n",
       "      <td>4.0</td>\n",
       "      <td>False</td>\n",
       "      <td>17.0</td>\n",
       "      <td>1</td>\n",
       "      <td>0</td>\n",
       "      <td>0</td>\n",
       "      <td>1</td>\n",
       "      <td>0</td>\n",
       "      <td>-1</td>\n",
       "      <td>Outlier</td>\n",
       "    </tr>\n",
       "  </tbody>\n",
       "</table>\n",
       "<p>300 rows × 25 columns</p>\n",
       "</div>"
      ],
      "text/plain": [
       "       gender  has_first_name  has_last_name  has_email  has_dob  account_age  \\\n",
       "54    missing             1.0            1.0        1.0      0.0        189.0   \n",
       "91          f             1.0            1.0        1.0      1.0        483.0   \n",
       "152         m             1.0            1.0        1.0      1.0        233.0   \n",
       "197   missing             1.0            1.0        1.0      1.0        648.0   \n",
       "236   missing             1.0            1.0        1.0      0.0        180.0   \n",
       "...       ...             ...            ...        ...      ...          ...   \n",
       "9843  missing             1.0            1.0        1.0      0.0        188.0   \n",
       "9926  missing             1.0            1.0        1.0      0.0        193.0   \n",
       "9952        f             1.0            1.0        1.0      1.0        183.0   \n",
       "9957  missing             1.0            1.0        1.0      0.0        584.0   \n",
       "9982        f             1.0            1.0        1.0      1.0        190.0   \n",
       "\n",
       "      account_last_updated  app_downloads  unique_offer_clicked  \\\n",
       "54                   174.0            2.0                   3.0   \n",
       "91                   174.0            1.0                   9.0   \n",
       "152                  174.0            2.0                   6.0   \n",
       "197                  175.0            2.0                   3.0   \n",
       "236                  177.0            2.0                   6.0   \n",
       "...                    ...            ...                   ...   \n",
       "9843                 174.0            1.0                   8.0   \n",
       "9926                 174.0            1.0                   9.0   \n",
       "9952                 174.0            1.0                   8.0   \n",
       "9957                 177.0            2.0                   8.0   \n",
       "9982                 174.0            1.0                  10.0   \n",
       "\n",
       "      total_offer_clicks  ...  total_offers_claimed  duplicated  \\\n",
       "54                   3.0  ...                   2.0        True   \n",
       "91                  27.0  ...                   5.0       False   \n",
       "152                 10.0  ...                   1.0       False   \n",
       "197                  8.0  ...                   2.0       False   \n",
       "236                 10.0  ...                   4.0       False   \n",
       "...                  ...  ...                   ...         ...   \n",
       "9843                26.0  ...                   1.0       False   \n",
       "9926                16.0  ...                   5.0       False   \n",
       "9952                21.0  ...                   1.0       False   \n",
       "9957                12.0  ...                   2.0       False   \n",
       "9982                42.0  ...                   4.0       False   \n",
       "\n",
       "      customer_age_imputed  gender_f  gender_m  gender_missing  \\\n",
       "54                    24.0         0         0               1   \n",
       "91                    18.0         1         0               0   \n",
       "152                   22.0         0         1               0   \n",
       "197                   19.0         0         0               1   \n",
       "236                   24.0         0         0               1   \n",
       "...                    ...       ...       ...             ...   \n",
       "9843                  23.0         0         0               1   \n",
       "9926                  23.0         0         0               1   \n",
       "9952                  19.0         1         0               0   \n",
       "9957                  21.0         0         0               1   \n",
       "9982                  17.0         1         0               0   \n",
       "\n",
       "      duplicated_false  duplicated_true  label  label_name  \n",
       "54                   0                1     -1     Outlier  \n",
       "91                   1                0     -1     Outlier  \n",
       "152                  1                0     -1     Outlier  \n",
       "197                  1                0     -1     Outlier  \n",
       "236                  1                0     -1     Outlier  \n",
       "...                ...              ...    ...         ...  \n",
       "9843                 1                0     -1     Outlier  \n",
       "9926                 1                0     -1     Outlier  \n",
       "9952                 1                0     -1     Outlier  \n",
       "9957                 1                0     -1     Outlier  \n",
       "9982                 1                0     -1     Outlier  \n",
       "\n",
       "[300 rows x 25 columns]"
      ]
     },
     "execution_count": 28,
     "metadata": {},
     "output_type": "execute_result"
    }
   ],
   "source": [
    "df_trained.loc[df_trained[\"label_name\"]==\"Outlier\",:]"
   ]
  },
  {
   "cell_type": "code",
   "execution_count": 29,
   "id": "e3ab74c8",
   "metadata": {},
   "outputs": [
    {
     "data": {
      "text/plain": [
       "app_downloads             1.0\n",
       "unique_offer_clicked      6.0\n",
       "total_offer_clicks       12.0\n",
       "total_offer_rides       134.0\n",
       "total_offers_claimed      2.0\n",
       "Name: 0.25, dtype: float64"
      ]
     },
     "execution_count": 29,
     "metadata": {},
     "output_type": "execute_result"
    }
   ],
   "source": [
    "Q1 = df_trained.loc[df_trained[\"label_name\"]==\"Outlier\", df_trained.columns.isin(train_feature)].quantile(0.25)\n",
    "Q1"
   ]
  },
  {
   "cell_type": "markdown",
   "id": "281c7997",
   "metadata": {},
   "source": [
    "Indicators/ Signal of fraud customers (based on Q1 -1first quartile of outliers):\n",
    "* Download app from 2 time\n",
    "* Unique offer click from 5 times\n",
    "* Total offer click from 11 times\n",
    "* Total offer drive from 117 times\n",
    "* Total offer claimed from 3 times\n"
   ]
  },
  {
   "cell_type": "markdown",
   "id": "dadc7766",
   "metadata": {},
   "source": [
    "#### Fraud Customer Profile"
   ]
  },
  {
   "cell_type": "code",
   "execution_count": 30,
   "id": "c50839dd",
   "metadata": {
    "scrolled": false
   },
   "outputs": [
    {
     "data": {
      "image/png": "[encoded data removed]",
      "text/plain": [
       "<Figure size 288x288 with 1 Axes>"
      ]
     },
     "metadata": {
      "needs_background": "light"
     },
     "output_type": "display_data"
    },
    {
     "data": {
      "image/png": "[encoded data removed]",
      "text/plain": [
       "<Figure size 288x288 with 1 Axes>"
      ]
     },
     "metadata": {
      "needs_background": "light"
     },
     "output_type": "display_data"
    },
    {
     "data": {
      "image/png": "[encoded data removed]",
      "text/plain": [
       "<Figure size 288x288 with 1 Axes>"
      ]
     },
     "metadata": {
      "needs_background": "light"
     },
     "output_type": "display_data"
    },
    {
     "data": {
      "image/png": "[encoded data removed]",
      "text/plain": [
       "<Figure size 288x288 with 1 Axes>"
      ]
     },
     "metadata": {
      "needs_background": "light"
     },
     "output_type": "display_data"
    },
    {
     "data": {
      "image/png": "[encoded data removed]",
      "text/plain": [
       "<Figure size 288x288 with 1 Axes>"
      ]
     },
     "metadata": {
      "needs_background": "light"
     },
     "output_type": "display_data"
    },
    {
     "data": {
      "image/png": "[encoded data removed]",
      "text/plain": [
       "<Figure size 288x288 with 1 Axes>"
      ]
     },
     "metadata": {
      "needs_background": "light"
     },
     "output_type": "display_data"
    }
   ],
   "source": [
    "plt.rcParams[\"figure.figsize\"] = (4,4)\n",
    "for i in profile_cat: \n",
    "    df_pct = (df_trained.groupby(['label_name',i])['label'].count()/df_trained.groupby(['label_name'])['label'].count())*100\n",
    "    df_pct.unstack().plot(kind = 'barh', stacked = True,rot=0)\n",
    "    plt.xlabel('Proportion%')\n",
    "    plt.ylabel('Type')\n",
    "    plt.legend(title=i,loc='center right')"
   ]
  },
  {
   "cell_type": "code",
   "execution_count": 31,
   "id": "d6ec6622",
   "metadata": {},
   "outputs": [
    {
     "data": {
      "text/html": [
       "<div>\n",
       "<style scoped>\n",
       "    .dataframe tbody tr th:only-of-type {\n",
       "        vertical-align: middle;\n",
       "    }\n",
       "\n",
       "    .dataframe tbody tr th {\n",
       "        vertical-align: top;\n",
       "    }\n",
       "\n",
       "    .dataframe thead th {\n",
       "        text-align: right;\n",
       "    }\n",
       "</style>\n",
       "<table border=\"1\" class=\"dataframe\">\n",
       "  <thead>\n",
       "    <tr style=\"text-align: right;\">\n",
       "      <th>label_name</th>\n",
       "      <th>Inliner</th>\n",
       "      <th>Outlier</th>\n",
       "    </tr>\n",
       "  </thead>\n",
       "  <tbody>\n",
       "    <tr>\n",
       "      <th>account_age</th>\n",
       "      <td>244.328660</td>\n",
       "      <td>293.926667</td>\n",
       "    </tr>\n",
       "    <tr>\n",
       "      <th>account_last_updated</th>\n",
       "      <td>174.256804</td>\n",
       "      <td>174.253333</td>\n",
       "    </tr>\n",
       "    <tr>\n",
       "      <th>app_downloads</th>\n",
       "      <td>1.022268</td>\n",
       "      <td>1.353333</td>\n",
       "    </tr>\n",
       "    <tr>\n",
       "      <th>unique_offer_clicked</th>\n",
       "      <td>3.031443</td>\n",
       "      <td>7.730000</td>\n",
       "    </tr>\n",
       "    <tr>\n",
       "      <th>total_offer_clicks</th>\n",
       "      <td>5.401649</td>\n",
       "      <td>19.533333</td>\n",
       "    </tr>\n",
       "    <tr>\n",
       "      <th>unique_offer_rides</th>\n",
       "      <td>7.372062</td>\n",
       "      <td>12.186667</td>\n",
       "    </tr>\n",
       "    <tr>\n",
       "      <th>total_offer_rides</th>\n",
       "      <td>63.016289</td>\n",
       "      <td>243.470000</td>\n",
       "    </tr>\n",
       "    <tr>\n",
       "      <th>avg_claims</th>\n",
       "      <td>1.003021</td>\n",
       "      <td>1.002444</td>\n",
       "    </tr>\n",
       "    <tr>\n",
       "      <th>min_claims</th>\n",
       "      <td>1.001340</td>\n",
       "      <td>1.000000</td>\n",
       "    </tr>\n",
       "    <tr>\n",
       "      <th>max_claims</th>\n",
       "      <td>1.005670</td>\n",
       "      <td>1.006667</td>\n",
       "    </tr>\n",
       "    <tr>\n",
       "      <th>total_offers_claimed</th>\n",
       "      <td>1.814021</td>\n",
       "      <td>4.043333</td>\n",
       "    </tr>\n",
       "    <tr>\n",
       "      <th>customer_age_imputed</th>\n",
       "      <td>23.382784</td>\n",
       "      <td>22.833333</td>\n",
       "    </tr>\n",
       "  </tbody>\n",
       "</table>\n",
       "</div>"
      ],
      "text/plain": [
       "label_name               Inliner     Outlier\n",
       "account_age           244.328660  293.926667\n",
       "account_last_updated  174.256804  174.253333\n",
       "app_downloads           1.022268    1.353333\n",
       "unique_offer_clicked    3.031443    7.730000\n",
       "total_offer_clicks      5.401649   19.533333\n",
       "unique_offer_rides      7.372062   12.186667\n",
       "total_offer_rides      63.016289  243.470000\n",
       "avg_claims              1.003021    1.002444\n",
       "min_claims              1.001340    1.000000\n",
       "max_claims              1.005670    1.006667\n",
       "total_offers_claimed    1.814021    4.043333\n",
       "customer_age_imputed   23.382784   22.833333"
      ]
     },
     "execution_count": 31,
     "metadata": {},
     "output_type": "execute_result"
    }
   ],
   "source": [
    "df_trained.groupby('label_name')[profile_number].mean().T"
   ]
  },
  {
   "cell_type": "code",
   "execution_count": 32,
   "id": "7a027529",
   "metadata": {
    "scrolled": false
   },
   "outputs": [
    {
     "data": {
      "image/png": "[encoded data removed]",
      "text/plain": [
       "<Figure size 288x288 with 1 Axes>"
      ]
     },
     "metadata": {
      "needs_background": "light"
     },
     "output_type": "display_data"
    },
    {
     "data": {
      "image/png": "[encoded data removed]",
      "text/plain": [
       "<Figure size 288x288 with 1 Axes>"
      ]
     },
     "metadata": {
      "needs_background": "light"
     },
     "output_type": "display_data"
    },
    {
     "data": {
      "image/png": "[encoded data removed]",
      "text/plain": [
       "<Figure size 288x288 with 1 Axes>"
      ]
     },
     "metadata": {
      "needs_background": "light"
     },
     "output_type": "display_data"
    },
    {
     "data": {
      "image/png": "[encoded data removed]",
      "text/plain": [
       "<Figure size 288x288 with 1 Axes>"
      ]
     },
     "metadata": {
      "needs_background": "light"
     },
     "output_type": "display_data"
    },
    {
     "data": {
      "image/png": "[encoded data removed]",
      "text/plain": [
       "<Figure size 288x288 with 1 Axes>"
      ]
     },
     "metadata": {
      "needs_background": "light"
     },
     "output_type": "display_data"
    },
    {
     "data": {
      "image/png": "[encoded data removed]",
      "text/plain": [
       "<Figure size 288x288 with 1 Axes>"
      ]
     },
     "metadata": {
      "needs_background": "light"
     },
     "output_type": "display_data"
    },
    {
     "data": {
      "image/png": "[encoded data removed]",
      "text/plain": [
       "<Figure size 288x288 with 1 Axes>"
      ]
     },
     "metadata": {
      "needs_background": "light"
     },
     "output_type": "display_data"
    },
    {
     "data": {
      "image/png": "[encoded data removed]",
      "text/plain": [
       "<Figure size 288x288 with 1 Axes>"
      ]
     },
     "metadata": {
      "needs_background": "light"
     },
     "output_type": "display_data"
    },
    {
     "data": {
      "image/png": "[encoded data removed]",
      "text/plain": [
       "<Figure size 288x288 with 1 Axes>"
      ]
     },
     "metadata": {
      "needs_background": "light"
     },
     "output_type": "display_data"
    },
    {
     "data": {
      "image/png": "[encoded data removed]",
      "text/plain": [
       "<Figure size 288x288 with 1 Axes>"
      ]
     },
     "metadata": {
      "needs_background": "light"
     },
     "output_type": "display_data"
    },
    {
     "data": {
      "image/png": "[encoded data removed]",
      "text/plain": [
       "<Figure size 288x288 with 1 Axes>"
      ]
     },
     "metadata": {
      "needs_background": "light"
     },
     "output_type": "display_data"
    },
    {
     "data": {
      "image/png": "[encoded data removed]",
      "text/plain": [
       "<Figure size 288x288 with 1 Axes>"
      ]
     },
     "metadata": {
      "needs_background": "light"
     },
     "output_type": "display_data"
    }
   ],
   "source": [
    "plt.rcParams[\"figure.figsize\"] = (4,4)\n",
    "for i in profile_number: \n",
    "    df_trained.groupby('label_name')[i].mean().plot(kind = 'bar', color=['g','r'])\n",
    "    plt.ylabel(i)\n",
    "    plt.xlabel('Average')\n",
    "    plt.show()"
   ]
  },
  {
   "cell_type": "markdown",
   "id": "5e4fdd1c",
   "metadata": {},
   "source": [
    "Save the model for future use or for prediction"
   ]
  },
  {
   "cell_type": "code",
   "execution_count": 33,
   "id": "a5ff55cb",
   "metadata": {},
   "outputs": [],
   "source": [
    "# Current date time in local system \n",
    "model_date = str(datetime.date(datetime.now())).replace(\"-\", \"_\")\n",
    "pickle.dump(iforest, open(path+\"anomaly_iforest\"+model_date+\".pkl\", \"wb\"))"
   ]
  }
 ],
 "metadata": {
  "kernelspec": {
   "display_name": "Python 3 (ipykernel)",
   "language": "python",
   "name": "python3"
  },
  "language_info": {
   "codemirror_mode": {
    "name": "ipython",
    "version": 3
   },
   "file_extension": ".py",
   "mimetype": "text/x-python",
   "name": "python",
   "nbconvert_exporter": "python",
   "pygments_lexer": "ipython3",
   "version": "3.9.7"
  }
 },
 "nbformat": 4,
 "nbformat_minor": 5
}
